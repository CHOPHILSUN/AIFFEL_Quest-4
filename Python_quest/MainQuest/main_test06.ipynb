{
  "nbformat": 4,
  "nbformat_minor": 0,
  "metadata": {
    "colab": {
      "provenance": [],
      "authorship_tag": "ABX9TyOP9+vLPPLy616LHVGLjHTj",
      "include_colab_link": true
    },
    "kernelspec": {
      "name": "python3",
      "display_name": "Python 3"
    },
    "language_info": {
      "name": "python"
    }
  },
  "cells": [
    {
      "cell_type": "markdown",
      "metadata": {
        "id": "view-in-github",
        "colab_type": "text"
      },
      "source": [
        "<a href=\"https://colab.research.google.com/github/passgiant/AIFFEL_Quest/blob/main/Python_quest/MainQuest/main_test06.ipynb\" target=\"_parent\"><img src=\"https://colab.research.google.com/assets/colab-badge.svg\" alt=\"Open In Colab\"/></a>"
      ]
    },
    {
      "cell_type": "code",
      "execution_count": null,
      "metadata": {
        "id": "Ca4ChXGmqyBU"
      },
      "outputs": [],
      "source": [
        "import csv\n",
        "import random\n",
        "\n",
        "class Aiffel:\n",
        "    def __init__(self, name, enter_year, class_num, class_name):\n",
        "        self.name = name\n",
        "        self.enter_year = str(enter_year)\n",
        "        self.class_num = str(class_num)\n",
        "        self.class_name = class_name\n",
        "        self.score_total = 0\n",
        "        self.score_plus = 0\n",
        "        self.score_minus = 0\n",
        "\n",
        "    def pn_g(self, x):\n",
        "        people_dict = dict(sorted(x.items()))\n",
        "        people_li = list(people_dict)\n",
        "\n",
        "        YY = self.enter_year[2:4]\n",
        "        NN = self.class_num\n",
        "        if self.class_name == \"코어\":\n",
        "            C = \"2\"\n",
        "        elif self.class_name == \"리서치\":\n",
        "            C = \"1\"\n",
        "        XX = 0\n",
        "        for key, value in people_dict.items():\n",
        "            for i, k in enumerate(people_li):\n",
        "                if key == k:\n",
        "                    XX = str(i + 1)\n",
        "                    XX = XX.zfill(2)\n",
        "            personal_num = YY + NN + C + XX\n",
        "            people_dict[key] = personal_num\n",
        "        return people_dict\n",
        "\n",
        "    def get_id_num(self, x):\n",
        "        x = self.pn_g(x)\n",
        "        people_li_val = x.values()\n",
        "        print(len(people_li_val))\n",
        "\n",
        "    def score(self, plus):\n",
        "        if 1 <= plus <= 3:\n",
        "            self.score_total += plus\n",
        "            self.score_plus += plus\n",
        "        return self.score_total\n",
        "    def penalty(self, minus):\n",
        "        if minus < 0:\n",
        "            self.score_total += minus\n",
        "            self.score_minus += minus\n",
        "        return self.score_total\n",
        "\n",
        "    def display_info(self, x):\n",
        "        people_dict = self.pn_g(x)\n",
        "        f = open('aiffel_name_list.csv', 'w', newline='')\n",
        "        wr = csv.writer(f)\n",
        "        li = []\n",
        "        name_li = people_dict.keys()\n",
        "        class_num_li = people_dict.values()\n",
        "        li.append(name_li)\n",
        "        li.append(class_num_li)\n",
        "        class_name = \"코어\"\n",
        "        class_name_li = []\n",
        "        for i in range(len(name_li)):\n",
        "            class_name_li.append(class_name)\n",
        "        li.append(class_name_li)\n",
        "        score_total_li = []\n",
        "        for i in range(len(name_li)):\n",
        "            score_total_li.append(self.score_total)\n",
        "        li.append(score_total_li)\n",
        "        score_plus_li = []\n",
        "        for i in range(len(name_li)):\n",
        "            score_plus_li.append(self.score_plus)\n",
        "        li.append(score_plus_li)\n",
        "        score_minus_li = []\n",
        "        for i in range(len(name_li)):\n",
        "            score_minus_li.append(self.score_minus)\n",
        "        li.append(score_minus_li)\n",
        "        for i in li:\n",
        "            wr.writerow(i)\n",
        "        f.close()\n",
        "\n",
        "        f = open(\"aiffel_name_list.csv\", 'r')\n",
        "        rdr = csv.reader(f)\n",
        "\n",
        "        rt_li = []\n",
        "\n",
        "        for line in rdr:\n",
        "            rt_li.append(line)\n",
        "        f.close()\n",
        "\n",
        "        return rt_li\n",
        "\n",
        "    def del_grew(self, x, *args):\n",
        "        info = self.display_info(x)\n",
        "        for i, j in enumerate(info):\n",
        "            for k, l in enumerate(j):\n",
        "                args = list(args)\n",
        "                for y in args:\n",
        "                    if l == y:\n",
        "                        for z in range(len(info)):\n",
        "                            del info[z][k]\n",
        "        print(info)\n",
        "\n",
        "class Aiffel_Group(Aiffel):\n",
        "    def ran_group(self, x):\n",
        "        grews = self.display_info(x)\n",
        "        group = [\"상생\", \"신뢰\", \"열정\", \"이끔\", \"성장\", \"가치\", \"공유\", \"확산\"]\n",
        "        grews_name = grews[0]\n",
        "        group_li = []\n",
        "        quotient = len(grews_name) // len(group)\n",
        "        remainder = len(grews_name) % len(group)\n",
        "        group2 = group*quotient\n",
        "        group0 = []\n",
        "        for i in range(remainder):\n",
        "            group1 = random.choice(group)\n",
        "            group0.append(group1)\n",
        "        group2 += group0\n",
        "        random.shuffle(group2)\n",
        "        grews.append(group2)\n",
        "        print(grews)\n",
        "\n",
        "class Aiffel_Guild(Aiffel):\n",
        "    def ran_group(self, x):\n",
        "        grews = self.display_info(x)\n",
        "        group = [\"힌튼\", \"알트만\", \"응\", \"하사비스\"]\n",
        "        grews_name = grews[0]\n",
        "        group_li = []\n",
        "        quotient = len(grews_name) // len(group)\n",
        "        remainder = len(grews_name) % len(group)\n",
        "        group2 = group*quotient\n",
        "        group0 = []\n",
        "        for i in range(remainder):\n",
        "            group1 = random.choice(group)\n",
        "            group0.append(group1)\n",
        "        group2 += group0\n",
        "        random.shuffle(group2)\n",
        "        grews.append(group2)\n",
        "\n",
        "        return grews\n",
        "\n",
        "    def guild_score(self, x, g_name, g_score):\n",
        "        info = self.ran_group(x)\n",
        "        g_s_dict = {\"힌튼\":0, \"알트만\":0, \"응\":0, \"하사비스\":0}\n",
        "        for i in info:\n",
        "            for j, k in enumerate(i):\n",
        "                if k == \"힌튼\" and g_name == \"힌튼\":\n",
        "                    if g_score > 0:\n",
        "                        info[4][j] = int(info[4][j])\n",
        "                        info[3][j] = int(info[3][j])\n",
        "                        info[4][j] += g_score\n",
        "                        info[3][j] += g_score\n",
        "                    else:\n",
        "                        info[5][j] = int(info[5][j])\n",
        "                        info[3][j] = int(info[3][j])\n",
        "                        info[5][j] += g_score\n",
        "                        info[3][j] += g_score\n",
        "                elif k == \"알트만\" and g_name == \"알트만\":\n",
        "                    if g_score > 0:\n",
        "                        info[4][j] = int(info[4][j])\n",
        "                        info[3][j] = int(info[3][j])\n",
        "                        info[4][j] += g_score\n",
        "                        info[3][j] += g_score\n",
        "                    else:\n",
        "                        info[5][j] = int(info[5][j])\n",
        "                        info[3][j] = int(info[3][j])\n",
        "                        info[5][j] += g_score\n",
        "                        info[3][j] += g_score\n",
        "                elif k == \"응\" and g_name == \"응\":\n",
        "                    if g_score > 0:\n",
        "                        info[4][j] = int(info[4][j])\n",
        "                        info[3][j] = int(info[3][j])\n",
        "                        info[4][j] += g_score\n",
        "                        info[3][j] += g_score\n",
        "                    else:\n",
        "                        info[5][j] = int(info[5][j])\n",
        "                        info[3][j] = int(info[3][j])\n",
        "                        info[5][j] += g_score\n",
        "                        info[3][j] += g_score\n",
        "                elif k == \"하사비스\" and g_name == \"하사비스\":\n",
        "                    if g_score > 0:\n",
        "                        info[4][j] = int(info[4][j])\n",
        "                        info[3][j] = int(info[3][j])\n",
        "                        info[4][j] += g_score\n",
        "                        info[3][j] += g_score\n",
        "                    else:\n",
        "                        info[5][j] = int(info[5][j])\n",
        "                        info[3][j] = int(info[3][j])\n",
        "                        info[5][j] += g_score\n",
        "                        info[3][j] += g_score\n",
        "\n",
        "        if g_name == \"힌튼\":\n",
        "            g_s_dict[\"힌튼\"] += g_score\n",
        "        elif g_name == \"알트만\":\n",
        "            g_s_dict[\"알트만\"] += g_score\n",
        "        elif g_name == \"응\":\n",
        "            g_s_dict[\"응\"] += g_score\n",
        "        elif g_name == \"하사비스\":\n",
        "            g_s_dict[\"하사비스\"] += g_score\n",
        "\n",
        "        print(g_s_dict)\n",
        "        return info\n",
        "\n",
        "# 문제점\n",
        "# 1. 길드 명단을 입력받아서 display_info 메서드를 출력하려 하면 score가 초기화가 되어버린다.\n",
        "# 2. 마찬가지로 guild_score 메서드도 길드별 점수가 초기화되어버린다.\n",
        "# 내가 생각한 해결 방법\n",
        "# 1. 계속 코어 명단을 입력으로 받는 방법을 다른 방법으로 바꾼다.\n",
        "# 2. 아예 코어 명단을 생성자로 만들어야 할 것 같은데 잘 모르겠다.\n"
      ]
    },
    {
      "cell_type": "code",
      "source": [
        "a = Aiffel(\"김영진\", 2023, 27, \"코어\")\n",
        "p = {\"김건\": 0, \"김경민\": 0, \"김소연\": 0, \"김영신\": 0, \"박근수\": 0, \"박영수\": 0, \"박영준\": 0, \"서원영\": 0, \"신지만\": 0, \"심지안\": 0, \"이규상\": 0, \"이윤상\": 0, \"이진영\": 0, \"임현석\": 0, \"전요한\": 0, \"전재영\": 0, \"조대희\":0}\n"
      ],
      "metadata": {
        "id": "QuRaS2fMLMIq"
      },
      "execution_count": null,
      "outputs": []
    },
    {
      "cell_type": "code",
      "source": [
        "a.pn_g(p)"
      ],
      "metadata": {
        "colab": {
          "base_uri": "https://localhost:8080/"
        },
        "id": "uREqV8JlLU61",
        "outputId": "3b589648-963c-44b6-ffc4-e537602e92b0"
      },
      "execution_count": null,
      "outputs": [
        {
          "output_type": "execute_result",
          "data": {
            "text/plain": [
              "{'김건': '2327201',\n",
              " '김경민': '2327202',\n",
              " '김소연': '2327203',\n",
              " '김영신': '2327204',\n",
              " '박근수': '2327205',\n",
              " '박영수': '2327206',\n",
              " '박영준': '2327207',\n",
              " '서원영': '2327208',\n",
              " '신지만': '2327209',\n",
              " '심지안': '2327210',\n",
              " '이규상': '2327211',\n",
              " '이윤상': '2327212',\n",
              " '이진영': '2327213',\n",
              " '임현석': '2327214',\n",
              " '전요한': '2327215',\n",
              " '전재영': '2327216',\n",
              " '조대희': '2327217'}"
            ]
          },
          "metadata": {},
          "execution_count": 3
        }
      ]
    },
    {
      "cell_type": "code",
      "source": [
        "a.get_id_num(p)"
      ],
      "metadata": {
        "colab": {
          "base_uri": "https://localhost:8080/"
        },
        "id": "DAQZkvdyLX5R",
        "outputId": "9635a1d1-ab38-4a83-c6f9-2a3016ada88b"
      },
      "execution_count": null,
      "outputs": [
        {
          "output_type": "stream",
          "name": "stdout",
          "text": [
            "17\n"
          ]
        }
      ]
    },
    {
      "cell_type": "code",
      "source": [
        "a.score(2)"
      ],
      "metadata": {
        "id": "KiLPYbJpLk0d",
        "colab": {
          "base_uri": "https://localhost:8080/"
        },
        "outputId": "61962ae9-ee13-41d1-acce-a150f790c2ac"
      },
      "execution_count": null,
      "outputs": [
        {
          "output_type": "execute_result",
          "data": {
            "text/plain": [
              "2"
            ]
          },
          "metadata": {},
          "execution_count": 5
        }
      ]
    },
    {
      "cell_type": "code",
      "source": [
        "a.penalty(-1)"
      ],
      "metadata": {
        "colab": {
          "base_uri": "https://localhost:8080/"
        },
        "id": "GVlG_rIFRiiI",
        "outputId": "ca51d97f-87ba-417c-f6fd-a342d9b797ed"
      },
      "execution_count": null,
      "outputs": [
        {
          "output_type": "execute_result",
          "data": {
            "text/plain": [
              "1"
            ]
          },
          "metadata": {},
          "execution_count": 6
        }
      ]
    },
    {
      "cell_type": "code",
      "source": [
        "a.display_info(p)"
      ],
      "metadata": {
        "colab": {
          "base_uri": "https://localhost:8080/"
        },
        "id": "EtG4RWYaRo0R",
        "outputId": "5c1d6888-5959-4547-b6cc-227d052c0a46"
      },
      "execution_count": null,
      "outputs": [
        {
          "output_type": "execute_result",
          "data": {
            "text/plain": [
              "[['김건',\n",
              "  '김경민',\n",
              "  '김소연',\n",
              "  '김영신',\n",
              "  '박근수',\n",
              "  '박영수',\n",
              "  '박영준',\n",
              "  '서원영',\n",
              "  '신지만',\n",
              "  '심지안',\n",
              "  '이규상',\n",
              "  '이윤상',\n",
              "  '이진영',\n",
              "  '임현석',\n",
              "  '전요한',\n",
              "  '전재영',\n",
              "  '조대희'],\n",
              " ['2327201',\n",
              "  '2327202',\n",
              "  '2327203',\n",
              "  '2327204',\n",
              "  '2327205',\n",
              "  '2327206',\n",
              "  '2327207',\n",
              "  '2327208',\n",
              "  '2327209',\n",
              "  '2327210',\n",
              "  '2327211',\n",
              "  '2327212',\n",
              "  '2327213',\n",
              "  '2327214',\n",
              "  '2327215',\n",
              "  '2327216',\n",
              "  '2327217'],\n",
              " ['코어',\n",
              "  '코어',\n",
              "  '코어',\n",
              "  '코어',\n",
              "  '코어',\n",
              "  '코어',\n",
              "  '코어',\n",
              "  '코어',\n",
              "  '코어',\n",
              "  '코어',\n",
              "  '코어',\n",
              "  '코어',\n",
              "  '코어',\n",
              "  '코어',\n",
              "  '코어',\n",
              "  '코어',\n",
              "  '코어'],\n",
              " ['1',\n",
              "  '1',\n",
              "  '1',\n",
              "  '1',\n",
              "  '1',\n",
              "  '1',\n",
              "  '1',\n",
              "  '1',\n",
              "  '1',\n",
              "  '1',\n",
              "  '1',\n",
              "  '1',\n",
              "  '1',\n",
              "  '1',\n",
              "  '1',\n",
              "  '1',\n",
              "  '1'],\n",
              " ['2',\n",
              "  '2',\n",
              "  '2',\n",
              "  '2',\n",
              "  '2',\n",
              "  '2',\n",
              "  '2',\n",
              "  '2',\n",
              "  '2',\n",
              "  '2',\n",
              "  '2',\n",
              "  '2',\n",
              "  '2',\n",
              "  '2',\n",
              "  '2',\n",
              "  '2',\n",
              "  '2'],\n",
              " ['-1',\n",
              "  '-1',\n",
              "  '-1',\n",
              "  '-1',\n",
              "  '-1',\n",
              "  '-1',\n",
              "  '-1',\n",
              "  '-1',\n",
              "  '-1',\n",
              "  '-1',\n",
              "  '-1',\n",
              "  '-1',\n",
              "  '-1',\n",
              "  '-1',\n",
              "  '-1',\n",
              "  '-1',\n",
              "  '-1']]"
            ]
          },
          "metadata": {},
          "execution_count": 7
        }
      ]
    },
    {
      "cell_type": "code",
      "source": [
        "a.del_grew(p, \"김경민\", \"김영신\")"
      ],
      "metadata": {
        "colab": {
          "base_uri": "https://localhost:8080/"
        },
        "id": "IkEGR3cTRwvf",
        "outputId": "cfaa6ce5-6e7c-4b75-e7d3-4dbf07de12d0"
      },
      "execution_count": null,
      "outputs": [
        {
          "output_type": "stream",
          "name": "stdout",
          "text": [
            "[['김건', '김소연', '박근수', '박영수', '박영준', '서원영', '신지만', '심지안', '이규상', '이윤상', '이진영', '임현석', '전요한', '전재영', '조대희'], ['2327201', '2327203', '2327205', '2327206', '2327207', '2327208', '2327209', '2327210', '2327211', '2327212', '2327213', '2327214', '2327215', '2327216', '2327217'], ['코어', '코어', '코어', '코어', '코어', '코어', '코어', '코어', '코어', '코어', '코어', '코어', '코어', '코어', '코어'], ['1', '1', '1', '1', '1', '1', '1', '1', '1', '1', '1', '1', '1', '1', '1'], ['2', '2', '2', '2', '2', '2', '2', '2', '2', '2', '2', '2', '2', '2', '2'], ['-1', '-1', '-1', '-1', '-1', '-1', '-1', '-1', '-1', '-1', '-1', '-1', '-1', '-1', '-1']]\n"
          ]
        }
      ]
    },
    {
      "cell_type": "code",
      "source": [
        "a = Aiffel_Group(\"김영진\", 2023, 27, \"코어\")\n",
        "p = {\"김건\": 0, \"김경민\": 0, \"김소연\": 0, \"김영신\": 0, \"박근수\": 0, \"박영수\": 0, \"박영준\": 0, \"서원영\": 0, \"신지만\": 0, \"심지안\": 0, \"이규상\": 0, \"이윤상\": 0, \"이진영\": 0, \"임현석\": 0, \"전요한\": 0, \"전재영\": 0, \"조대희\":0}\n"
      ],
      "metadata": {
        "id": "YtDy5kbHSA1T"
      },
      "execution_count": null,
      "outputs": []
    },
    {
      "cell_type": "code",
      "source": [
        "a.ran_group(p)"
      ],
      "metadata": {
        "colab": {
          "base_uri": "https://localhost:8080/"
        },
        "id": "BFRmpQ_2MiJQ",
        "outputId": "f8bf02d1-cddc-49cd-c0ff-a113eb421291"
      },
      "execution_count": null,
      "outputs": [
        {
          "output_type": "stream",
          "name": "stdout",
          "text": [
            "[['김건', '김경민', '김소연', '김영신', '박근수', '박영수', '박영준', '서원영', '신지만', '심지안', '이규상', '이윤상', '이진영', '임현석', '전요한', '전재영', '조대희'], ['2327201', '2327202', '2327203', '2327204', '2327205', '2327206', '2327207', '2327208', '2327209', '2327210', '2327211', '2327212', '2327213', '2327214', '2327215', '2327216', '2327217'], ['코어', '코어', '코어', '코어', '코어', '코어', '코어', '코어', '코어', '코어', '코어', '코어', '코어', '코어', '코어', '코어', '코어'], ['0', '0', '0', '0', '0', '0', '0', '0', '0', '0', '0', '0', '0', '0', '0', '0', '0'], ['0', '0', '0', '0', '0', '0', '0', '0', '0', '0', '0', '0', '0', '0', '0', '0', '0'], ['0', '0', '0', '0', '0', '0', '0', '0', '0', '0', '0', '0', '0', '0', '0', '0', '0'], ['이끔', '신뢰', '가치', '상생', '공유', '신뢰', '상생', '성장', '공유', '확산', '공유', '확산', '가치', '열정', '성장', '이끔', '열정']]\n"
          ]
        }
      ]
    },
    {
      "cell_type": "code",
      "source": [
        "a = Aiffel_Guild(\"김영진\", 2023, 27, \"코어\")\n",
        "p = {\"김건\": 0, \"김경민\": 0, \"김소연\": 0, \"김영신\": 0, \"박근수\": 0, \"박영수\": 0, \"박영준\": 0, \"서원영\": 0, \"신지만\": 0, \"심지안\": 0, \"이규상\": 0, \"이윤상\": 0, \"이진영\": 0, \"임현석\": 0, \"전요한\": 0, \"전재영\": 0, \"조대희\":0}\n"
      ],
      "metadata": {
        "id": "iFU1xYCbMpqD"
      },
      "execution_count": null,
      "outputs": []
    },
    {
      "cell_type": "code",
      "source": [
        "a.ran_group(p)"
      ],
      "metadata": {
        "colab": {
          "base_uri": "https://localhost:8080/"
        },
        "id": "OrQdV3y-Mvi6",
        "outputId": "566fe7bd-295e-4e59-abd7-dff75834ad98"
      },
      "execution_count": null,
      "outputs": [
        {
          "output_type": "execute_result",
          "data": {
            "text/plain": [
              "[['김건',\n",
              "  '김경민',\n",
              "  '김소연',\n",
              "  '김영신',\n",
              "  '박근수',\n",
              "  '박영수',\n",
              "  '박영준',\n",
              "  '서원영',\n",
              "  '신지만',\n",
              "  '심지안',\n",
              "  '이규상',\n",
              "  '이윤상',\n",
              "  '이진영',\n",
              "  '임현석',\n",
              "  '전요한',\n",
              "  '전재영',\n",
              "  '조대희'],\n",
              " ['2327201',\n",
              "  '2327202',\n",
              "  '2327203',\n",
              "  '2327204',\n",
              "  '2327205',\n",
              "  '2327206',\n",
              "  '2327207',\n",
              "  '2327208',\n",
              "  '2327209',\n",
              "  '2327210',\n",
              "  '2327211',\n",
              "  '2327212',\n",
              "  '2327213',\n",
              "  '2327214',\n",
              "  '2327215',\n",
              "  '2327216',\n",
              "  '2327217'],\n",
              " ['코어',\n",
              "  '코어',\n",
              "  '코어',\n",
              "  '코어',\n",
              "  '코어',\n",
              "  '코어',\n",
              "  '코어',\n",
              "  '코어',\n",
              "  '코어',\n",
              "  '코어',\n",
              "  '코어',\n",
              "  '코어',\n",
              "  '코어',\n",
              "  '코어',\n",
              "  '코어',\n",
              "  '코어',\n",
              "  '코어'],\n",
              " ['0',\n",
              "  '0',\n",
              "  '0',\n",
              "  '0',\n",
              "  '0',\n",
              "  '0',\n",
              "  '0',\n",
              "  '0',\n",
              "  '0',\n",
              "  '0',\n",
              "  '0',\n",
              "  '0',\n",
              "  '0',\n",
              "  '0',\n",
              "  '0',\n",
              "  '0',\n",
              "  '0'],\n",
              " ['0',\n",
              "  '0',\n",
              "  '0',\n",
              "  '0',\n",
              "  '0',\n",
              "  '0',\n",
              "  '0',\n",
              "  '0',\n",
              "  '0',\n",
              "  '0',\n",
              "  '0',\n",
              "  '0',\n",
              "  '0',\n",
              "  '0',\n",
              "  '0',\n",
              "  '0',\n",
              "  '0'],\n",
              " ['0',\n",
              "  '0',\n",
              "  '0',\n",
              "  '0',\n",
              "  '0',\n",
              "  '0',\n",
              "  '0',\n",
              "  '0',\n",
              "  '0',\n",
              "  '0',\n",
              "  '0',\n",
              "  '0',\n",
              "  '0',\n",
              "  '0',\n",
              "  '0',\n",
              "  '0',\n",
              "  '0'],\n",
              " ['알트만',\n",
              "  '알트만',\n",
              "  '힌튼',\n",
              "  '힌튼',\n",
              "  '힌튼',\n",
              "  '힌튼',\n",
              "  '응',\n",
              "  '알트만',\n",
              "  '하사비스',\n",
              "  '알트만',\n",
              "  '응',\n",
              "  '하사비스',\n",
              "  '하사비스',\n",
              "  '알트만',\n",
              "  '응',\n",
              "  '하사비스',\n",
              "  '응']]"
            ]
          },
          "metadata": {},
          "execution_count": 6
        }
      ]
    },
    {
      "cell_type": "code",
      "source": [
        "a.guild_score(p, \"응\", 2)"
      ],
      "metadata": {
        "colab": {
          "base_uri": "https://localhost:8080/"
        },
        "id": "hacG2eeUM0nc",
        "outputId": "d16b8d06-226a-4c4f-f823-18a6e11b22b0"
      },
      "execution_count": null,
      "outputs": [
        {
          "output_type": "stream",
          "name": "stdout",
          "text": [
            "{'힌튼': 0, '알트만': 0, '응': 2, '하사비스': 0}\n"
          ]
        },
        {
          "output_type": "execute_result",
          "data": {
            "text/plain": [
              "[['김건',\n",
              "  '김경민',\n",
              "  '김소연',\n",
              "  '김영신',\n",
              "  '박근수',\n",
              "  '박영수',\n",
              "  '박영준',\n",
              "  '서원영',\n",
              "  '신지만',\n",
              "  '심지안',\n",
              "  '이규상',\n",
              "  '이윤상',\n",
              "  '이진영',\n",
              "  '임현석',\n",
              "  '전요한',\n",
              "  '전재영',\n",
              "  '조대희'],\n",
              " ['2327201',\n",
              "  '2327202',\n",
              "  '2327203',\n",
              "  '2327204',\n",
              "  '2327205',\n",
              "  '2327206',\n",
              "  '2327207',\n",
              "  '2327208',\n",
              "  '2327209',\n",
              "  '2327210',\n",
              "  '2327211',\n",
              "  '2327212',\n",
              "  '2327213',\n",
              "  '2327214',\n",
              "  '2327215',\n",
              "  '2327216',\n",
              "  '2327217'],\n",
              " ['코어',\n",
              "  '코어',\n",
              "  '코어',\n",
              "  '코어',\n",
              "  '코어',\n",
              "  '코어',\n",
              "  '코어',\n",
              "  '코어',\n",
              "  '코어',\n",
              "  '코어',\n",
              "  '코어',\n",
              "  '코어',\n",
              "  '코어',\n",
              "  '코어',\n",
              "  '코어',\n",
              "  '코어',\n",
              "  '코어'],\n",
              " [2, 2, '0', '0', '0', 2, '0', '0', '0', '0', '0', '0', '0', '0', '0', '0', 2],\n",
              " [2, 2, '0', '0', '0', 2, '0', '0', '0', '0', '0', '0', '0', '0', '0', '0', 2],\n",
              " ['0',\n",
              "  '0',\n",
              "  '0',\n",
              "  '0',\n",
              "  '0',\n",
              "  '0',\n",
              "  '0',\n",
              "  '0',\n",
              "  '0',\n",
              "  '0',\n",
              "  '0',\n",
              "  '0',\n",
              "  '0',\n",
              "  '0',\n",
              "  '0',\n",
              "  '0',\n",
              "  '0'],\n",
              " ['응',\n",
              "  '응',\n",
              "  '힌튼',\n",
              "  '힌튼',\n",
              "  '알트만',\n",
              "  '응',\n",
              "  '힌튼',\n",
              "  '하사비스',\n",
              "  '알트만',\n",
              "  '하사비스',\n",
              "  '하사비스',\n",
              "  '알트만',\n",
              "  '하사비스',\n",
              "  '알트만',\n",
              "  '하사비스',\n",
              "  '힌튼',\n",
              "  '응']]"
            ]
          },
          "metadata": {},
          "execution_count": 7
        }
      ]
    },
    {
      "cell_type": "code",
      "source": [],
      "metadata": {
        "id": "ro5Hfi8AM_iy"
      },
      "execution_count": null,
      "outputs": []
    }
  ]
}