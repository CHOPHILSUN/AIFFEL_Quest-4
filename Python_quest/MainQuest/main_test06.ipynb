{
  "nbformat": 4,
  "nbformat_minor": 0,
  "metadata": {
    "colab": {
      "provenance": [],
      "authorship_tag": "ABX9TyNZaBIHAasJSjcfcggClboP",
      "include_colab_link": true
    },
    "kernelspec": {
      "name": "python3",
      "display_name": "Python 3"
    },
    "language_info": {
      "name": "python"
    }
  },
  "cells": [
    {
      "cell_type": "markdown",
      "metadata": {
        "id": "view-in-github",
        "colab_type": "text"
      },
      "source": [
        "<a href=\"https://colab.research.google.com/github/passgiant/AIFFEL_Quest/blob/main/Python_quest/MainQuest/main_test06.ipynb\" target=\"_parent\"><img src=\"https://colab.research.google.com/assets/colab-badge.svg\" alt=\"Open In Colab\"/></a>"
      ]
    },
    {
      "cell_type": "code",
      "execution_count": 1,
      "metadata": {
        "id": "Ca4ChXGmqyBU"
      },
      "outputs": [],
      "source": [
        "import csv\n",
        "\n",
        "class Aiffel:\n",
        "    def __init__(self, name, enter_year, class_num, class_name):\n",
        "        self.name = name\n",
        "        self.enter_year = str(enter_year)\n",
        "        self.class_num = str(class_num)\n",
        "        self.class_name = class_name\n",
        "        self.score_total = 0\n",
        "        self.score_plus = 0\n",
        "        self.score_minus = 0\n",
        "\n",
        "    def pn_g(self, x):\n",
        "        people_dict = dict(sorted(x.items()))\n",
        "        people_li = list(people_dict)\n",
        "\n",
        "        YY = self.enter_year[2:4]\n",
        "        NN = self.class_num\n",
        "        if self.class_name == \"코어\":\n",
        "            C = \"2\"\n",
        "        elif self.class_name == \"리서치\":\n",
        "            C = \"1\"\n",
        "        XX = 0\n",
        "        for key, value in people_dict.items():\n",
        "            for i, k in enumerate(people_li):\n",
        "                if key == k:\n",
        "                    XX = str(i + 1)\n",
        "                    XX = XX.zfill(2)\n",
        "            personal_num = YY + NN + C + XX\n",
        "            people_dict[key] = personal_num\n",
        "        return people_dict\n",
        "\n",
        "    def get_id_num(self, x):\n",
        "        self.pn_g(x)\n",
        "        people_li_val = people_dict.values()\n",
        "        print(len(people_li_val))\n",
        "\n",
        "    def score(self, plus):\n",
        "        if 1 <= plus <= 3:\n",
        "            self.score_total += plus\n",
        "            self.score_plus += plus\n",
        "        return self.score_total\n",
        "    def penalty(self, minus):\n",
        "        if minus < 0:\n",
        "            self.score_total += minus\n",
        "            self.score_minus += minus\n",
        "        return self.score_total\n",
        "\n",
        "    def display_info(self, x):\n",
        "        people_dict = self.pn_g(x)\n",
        "        f = open('aiffel_name_list.csv', 'w', newline='')\n",
        "        wr = csv.writer(f)\n",
        "        li = []\n",
        "        name_li = people_dict.keys()\n",
        "        class_num_li = people_dict.values()\n",
        "        li.append(name_li)\n",
        "        li.append(class_num_li)\n",
        "        class_name = \"코어\"\n",
        "        class_name_li = []\n",
        "        for i in range(len(name_li)):\n",
        "            class_name_li.append(class_name)\n",
        "        li.append(class_name_li)\n",
        "        score_total_li = []\n",
        "        for i in range(len(name_li)):\n",
        "            score_total_li.append(self.score_total)\n",
        "        li.append(score_total_li)\n",
        "        score_plus_li = []\n",
        "        for i in range(len(name_li)):\n",
        "            score_plus_li.append(self.score_plus)\n",
        "        li.append(score_plus_li)\n",
        "        score_minus_li = []\n",
        "        for i in range(len(name_li)):\n",
        "            score_minus_li.append(self.score_minus)\n",
        "        li.append(score_minus_li)\n",
        "        for i in li:\n",
        "            wr.writerow(i)\n",
        "        f.close()\n",
        "\n",
        "        f = open(\"aiffel_name_list.csv\", 'r')\n",
        "        rdr = csv.reader(f)\n",
        "\n",
        "        rt_li = []\n",
        "\n",
        "        for line in rdr:\n",
        "            rt_li.append(line)\n",
        "        f.close()\n",
        "\n",
        "        return rt_li\n",
        "\n",
        "    def del_grew(self, x, *args):\n",
        "        info = self.display_info(x)\n",
        "        for i, j in enumerate(info):\n",
        "            for k, l in enumerate(j):\n",
        "                args = list(args)\n",
        "                for y in args:\n",
        "                    if l == y:\n",
        "                        for z in range(len(info)):\n",
        "                            del info[z][k]\n",
        "        print(info)"
      ]
    },
    {
      "cell_type": "code",
      "source": [
        "a = Aiffel(\"김영진\", 2023, 27, \"코어\")\n",
        "p = {\"김건\": 0, \"김경민\": 0, \"김소연\": 0, \"김영신\": 0, \"박근수\": 0, \"박영수\": 0, \"박영준\": 0, \"서원영\": 0, \"신지만\": 0, \"심지안\": 0, \"이규상\": 0, \"이윤상\": 0, \"이진영\": 0, \"임현석\": 0, \"전요한\": 0, \"전재영\": 0, \"조대희\":0}\n"
      ],
      "metadata": {
        "id": "QuRaS2fMLMIq"
      },
      "execution_count": 3,
      "outputs": []
    },
    {
      "cell_type": "code",
      "source": [
        "a.pn_g(p)"
      ],
      "metadata": {
        "colab": {
          "base_uri": "https://localhost:8080/"
        },
        "id": "uREqV8JlLU61",
        "outputId": "60ce396d-c4ab-4236-eb5b-9f833535487e"
      },
      "execution_count": 4,
      "outputs": [
        {
          "output_type": "execute_result",
          "data": {
            "text/plain": [
              "{'김건': '2327201',\n",
              " '김경민': '2327202',\n",
              " '김소연': '2327203',\n",
              " '김영신': '2327204',\n",
              " '박근수': '2327205',\n",
              " '박영수': '2327206',\n",
              " '박영준': '2327207',\n",
              " '서원영': '2327208',\n",
              " '신지만': '2327209',\n",
              " '심지안': '2327210',\n",
              " '이규상': '2327211',\n",
              " '이윤상': '2327212',\n",
              " '이진영': '2327213',\n",
              " '임현석': '2327214',\n",
              " '전요한': '2327215',\n",
              " '전재영': '2327216',\n",
              " '조대희': '2327217'}"
            ]
          },
          "metadata": {},
          "execution_count": 4
        }
      ]
    },
    {
      "cell_type": "code",
      "source": [
        "a.get_id_num(p)"
      ],
      "metadata": {
        "colab": {
          "base_uri": "https://localhost:8080/",
          "height": 317
        },
        "id": "DAQZkvdyLX5R",
        "outputId": "fc7b00a1-e0c5-442e-fdd6-2a2af3e98836"
      },
      "execution_count": 7,
      "outputs": [
        {
          "output_type": "error",
          "ename": "NameError",
          "evalue": "ignored",
          "traceback": [
            "\u001b[0;31m---------------------------------------------------------------------------\u001b[0m",
            "\u001b[0;31mNameError\u001b[0m                                 Traceback (most recent call last)",
            "\u001b[0;32m<ipython-input-7-2fdcd389ff6a>\u001b[0m in \u001b[0;36m<cell line: 1>\u001b[0;34m()\u001b[0m\n\u001b[0;32m----> 1\u001b[0;31m \u001b[0ma\u001b[0m\u001b[0;34m.\u001b[0m\u001b[0mget_id_num\u001b[0m\u001b[0;34m(\u001b[0m\u001b[0mp\u001b[0m\u001b[0;34m)\u001b[0m\u001b[0;34m\u001b[0m\u001b[0;34m\u001b[0m\u001b[0m\n\u001b[0m",
            "\u001b[0;32m<ipython-input-1-bdbe2c39580c>\u001b[0m in \u001b[0;36mget_id_num\u001b[0;34m(self, x)\u001b[0m\n\u001b[1;32m     33\u001b[0m     \u001b[0;32mdef\u001b[0m \u001b[0mget_id_num\u001b[0m\u001b[0;34m(\u001b[0m\u001b[0mself\u001b[0m\u001b[0;34m,\u001b[0m \u001b[0mx\u001b[0m\u001b[0;34m)\u001b[0m\u001b[0;34m:\u001b[0m\u001b[0;34m\u001b[0m\u001b[0;34m\u001b[0m\u001b[0m\n\u001b[1;32m     34\u001b[0m         \u001b[0mself\u001b[0m\u001b[0;34m.\u001b[0m\u001b[0mpn_g\u001b[0m\u001b[0;34m(\u001b[0m\u001b[0mx\u001b[0m\u001b[0;34m)\u001b[0m\u001b[0;34m\u001b[0m\u001b[0;34m\u001b[0m\u001b[0m\n\u001b[0;32m---> 35\u001b[0;31m         \u001b[0mpeople_li_val\u001b[0m \u001b[0;34m=\u001b[0m \u001b[0mpeople_dict\u001b[0m\u001b[0;34m.\u001b[0m\u001b[0mvalues\u001b[0m\u001b[0;34m(\u001b[0m\u001b[0;34m)\u001b[0m\u001b[0;34m\u001b[0m\u001b[0;34m\u001b[0m\u001b[0m\n\u001b[0m\u001b[1;32m     36\u001b[0m         \u001b[0mprint\u001b[0m\u001b[0;34m(\u001b[0m\u001b[0mlen\u001b[0m\u001b[0;34m(\u001b[0m\u001b[0mpeople_li_val\u001b[0m\u001b[0;34m)\u001b[0m\u001b[0;34m)\u001b[0m\u001b[0;34m\u001b[0m\u001b[0;34m\u001b[0m\u001b[0m\n\u001b[1;32m     37\u001b[0m \u001b[0;34m\u001b[0m\u001b[0m\n",
            "\u001b[0;31mNameError\u001b[0m: name 'people_dict' is not defined"
          ]
        }
      ]
    },
    {
      "cell_type": "code",
      "source": [],
      "metadata": {
        "id": "KiLPYbJpLk0d"
      },
      "execution_count": null,
      "outputs": []
    }
  ]
}