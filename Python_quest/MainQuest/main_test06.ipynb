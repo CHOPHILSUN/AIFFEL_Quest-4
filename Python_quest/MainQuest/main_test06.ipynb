{
  "nbformat": 4,
  "nbformat_minor": 0,
  "metadata": {
    "colab": {
      "provenance": [],
      "authorship_tag": "ABX9TyN+6nED7z2fckR1eSrWk+ht",
      "include_colab_link": true
    },
    "kernelspec": {
      "name": "python3",
      "display_name": "Python 3"
    },
    "language_info": {
      "name": "python"
    }
  },
  "cells": [
    {
      "cell_type": "markdown",
      "metadata": {
        "id": "view-in-github",
        "colab_type": "text"
      },
      "source": [
        "<a href=\"https://colab.research.google.com/github/passgiant/AIFFEL_Quest/blob/main/Python_quest/MainQuest/main_test06.ipynb\" target=\"_parent\"><img src=\"https://colab.research.google.com/assets/colab-badge.svg\" alt=\"Open In Colab\"/></a>"
      ]
    },
    {
      "cell_type": "code",
      "execution_count": 366,
      "metadata": {
        "id": "Ca4ChXGmqyBU"
      },
      "outputs": [],
      "source": [
        "import csv\n",
        "import random\n",
        "\n",
        "class Aiffel:\n",
        "    x = {\"김건\": [0, 0, 0, 0], \"김경민\": [0, 0, 0, 0], \"김소연\": [0, 0, 0, 0], \"김영신\": [0, 0, 0, 0], \"박근수\": [0, 0, 0, 0], \"박영수\": [0, 0, 0, 0], \"박영준\": [0, 0, 0, 0], \"서원영\": [0, 0, 0, 0], \"신지만\": [0, 0, 0, 0], \"심지안\": [0, 0, 0, 0],\n",
        "         \"이규상\": [0, 0, 0, 0], \"이윤상\": [0, 0, 0, 0], \"이진영\": [0, 0, 0, 0], \"임현석\": [0, 0, 0, 0], \"전요한\": [0, 0, 0, 0], \"전재영\": [0, 0, 0, 0], \"조대희\":[0, 0, 0, 0]}\n",
        "    g_s_dict = {\"힌튼\":0, \"알트만\":0, \"응\":0, \"하사비스\":0}\n",
        "\n",
        "    def __init__(self, name, enter_year, class_num, class_name):\n",
        "        self.name = name\n",
        "        self.enter_year = str(enter_year)\n",
        "        self.class_num = str(class_num)\n",
        "        self.class_name = class_name\n",
        "\n",
        "    def pn_g(self):\n",
        "        people_dict = dict(sorted(Aiffel.x.items()))\n",
        "        people_li = list(people_dict)\n",
        "\n",
        "        YY = self.enter_year[2:4]\n",
        "        NN = self.class_num\n",
        "        if self.class_name == \"코어\":\n",
        "            C = \"2\"\n",
        "        elif self.class_name == \"리서치\":\n",
        "            C = \"1\"\n",
        "        XX = 0\n",
        "        for i, k in enumerate(people_li):\n",
        "            XX = str(i + 1)\n",
        "            XX = XX.zfill(2)\n",
        "            personal_num = YY + NN + C + XX\n",
        "            Aiffel.x[k][0] = personal_num\n",
        "\n",
        "        return Aiffel.x\n",
        "\n",
        "    def get_id_num(self):\n",
        "        x = self.pn_g()\n",
        "        people_li_val = x.values()\n",
        "        print(len(people_li_val))\n",
        "\n",
        "    def score(self, plus):\n",
        "        if 1 <= plus <= 3:\n",
        "            Aiffel.x[self.name][2] += plus\n",
        "            Aiffel.x[self.name][1] += plus\n",
        "        return Aiffel.x[self.name][1]\n",
        "    def penalty(self, minus):\n",
        "        if minus < 0:\n",
        "            Aiffel.x[self.name][3] += minus\n",
        "            Aiffel.x[self.name][1] += minus\n",
        "        return Aiffel.x[self.name][1]\n",
        "\n",
        "    def display_info(self):\n",
        "        people_dict = self.pn_g()\n",
        "        f = open('aiffel_name_list.csv', 'w', newline='')\n",
        "        wr = csv.writer(f)\n",
        "        li = []\n",
        "        name_li = people_dict.keys()\n",
        "        class_num_li = people_dict.values()\n",
        "        li.append(name_li)\n",
        "        li.append(class_num_li)\n",
        "        class_name = \"코어\"\n",
        "        class_name_li = []\n",
        "        for i in range(len(name_li)):\n",
        "            class_name_li.append(class_name)\n",
        "        li.append(class_name_li)\n",
        "        score_total_li = []\n",
        "        for i in name_li:\n",
        "            score_total_li.append(Aiffel.x[i][1])\n",
        "        li.append(score_total_li)\n",
        "        score_plus_li = []\n",
        "        for i in name_li:\n",
        "            score_plus_li.append(Aiffel.x[i][2])\n",
        "        li.append(score_plus_li)\n",
        "        score_minus_li = []\n",
        "        for i in name_li:\n",
        "            score_minus_li.append(Aiffel.x[i][3])\n",
        "        li.append(score_minus_li)\n",
        "        for i in li:\n",
        "            wr.writerow(i)\n",
        "        f.close()\n",
        "\n",
        "        f = open(\"aiffel_name_list.csv\", 'r')\n",
        "        rdr = csv.reader(f)\n",
        "\n",
        "        rt_li = []\n",
        "\n",
        "        for line in rdr:\n",
        "            rt_li.append(line)\n",
        "        f.close()\n",
        "\n",
        "        return rt_li\n",
        "\n",
        "    def del_grew(self, *args):\n",
        "        info = self.display_info()\n",
        "        for i, j in enumerate(info):\n",
        "            for k, l in enumerate(j):\n",
        "                args = list(args)\n",
        "                for y in args:\n",
        "                    if l == y:\n",
        "                        del Aiffel.x[y]\n",
        "\n",
        "        return Aiffel.x\n",
        "\n",
        "class Aiffel_Group(Aiffel):\n",
        "    def ran_group(self):\n",
        "        grews = self.display_info()\n",
        "        group = [\"상생\", \"신뢰\", \"열정\", \"이끔\", \"성장\", \"가치\", \"공유\", \"확산\"]\n",
        "        grews_name = grews[0]\n",
        "        group_li = []\n",
        "        quotient = len(grews_name) // len(group)\n",
        "        remainder = len(grews_name) % len(group)\n",
        "        group2 = group*quotient\n",
        "        group0 = []\n",
        "        for i in range(remainder):\n",
        "            random.seed(1)\n",
        "            group1 = random.choice(group)\n",
        "            group0.append(group1)\n",
        "        group2 += group0\n",
        "        random.seed(1)\n",
        "        random.shuffle(group2)\n",
        "        grews.append(group2)\n",
        "\n",
        "        return grews\n",
        "\n",
        "    def group2guild_score(self, gr_name, s):\n",
        "        info1 = self.ran_group()\n",
        "        d = Aiffel_Guild(\"김영진\", 2023, 27, \"코어\")\n",
        "        info2 = d.ran_group()\n",
        "\n",
        "        for i in info1:\n",
        "            for j, k in enumerate(i):\n",
        "                if gr_name == \"상생\" and k == \"상생\":\n",
        "                    if info2[7][j] == \"힌튼\":\n",
        "                        d.guild_score(\"힌튼\", s)\n",
        "                    elif info2[7][j] == \"알트만\":\n",
        "                        d.guild_score(\"알트만\", s)\n",
        "                    elif info2[7][j] == \"응\":\n",
        "                        d.guild_score(\"응\", s)\n",
        "                    elif info2[7][j] == \"하사비스\":\n",
        "                        d.guild_score(\"하사비스\", s)\n",
        "                elif gr_name == \"신뢰\" and k == \"신뢰\":\n",
        "                    if info2[7][j] == \"힌튼\":\n",
        "                        d.guild_score(\"힌튼\", s)\n",
        "                    elif info2[7][j] == \"알트만\":\n",
        "                        d.guild_score(\"알트만\", s)\n",
        "                    elif info2[7][j] == \"응\":\n",
        "                        d.guild_score(\"응\", s)\n",
        "                    elif info2[7][j] == \"하사비스\":\n",
        "                        d.guild_score(\"하사비스\", s)\n",
        "                elif gr_name == \"열정\" and k == \"열정\":\n",
        "                    if info2[7][j] == \"힌튼\":\n",
        "                        d.guild_score(\"힌튼\", s)\n",
        "                    elif info2[7][j] == \"알트만\":\n",
        "                        d.guild_score(\"알트만\", s)\n",
        "                    elif info2[7][j] == \"응\":\n",
        "                        d.guild_score(\"응\", s)\n",
        "                    elif info2[7][j] == \"하사비스\":\n",
        "                        d.guild_score(\"하사비스\", s)\n",
        "                elif gr_name == \"이끔\" and k == \"이끔\":\n",
        "                    if info2[7][j] == \"힌튼\":\n",
        "                        d.guild_score(\"힌튼\", s)\n",
        "                    elif info2[7][j] == \"알트만\":\n",
        "                        d.guild_score(\"알트만\", s)\n",
        "                    elif info2[7][j] == \"응\":\n",
        "                        d.guild_score(\"응\", s)\n",
        "                    elif info2[7][j] == \"하사비스\":\n",
        "                        d.guild_score(\"하사비스\", s)\n",
        "                elif gr_name == \"성장\" and k == \"성장\":\n",
        "                    if info2[7][j] == \"힌튼\":\n",
        "                        d.guild_score(\"힌튼\", s)\n",
        "                    elif info2[7][j] == \"알트만\":\n",
        "                        d.guild_score(\"알트만\", s)\n",
        "                    elif info2[7][j] == \"응\":\n",
        "                        d.guild_score(\"응\", s)\n",
        "                    elif info2[7][j] == \"하사비스\":\n",
        "                        d.guild_score(\"하사비스\", s)\n",
        "                elif gr_name == \"가치\" and k == \"가치\":\n",
        "                    if info2[7][j] == \"힌튼\":\n",
        "                        d.guild_score(\"힌튼\", s)\n",
        "                    elif info2[7][j] == \"알트만\":\n",
        "                        d.guild_score(\"알트만\", s)\n",
        "                    elif info2[7][j] == \"응\":\n",
        "                        d.guild_score(\"응\", s)\n",
        "                    elif info2[7][j] == \"하사비스\":\n",
        "                        d.guild_score(\"하사비스\", s)\n",
        "                elif gr_name == \"공유\" and k == \"공유\":\n",
        "                    if info2[7][j] == \"힌튼\":\n",
        "                        d.guild_score(\"힌튼\", s)\n",
        "                    elif info2[7][j] == \"알트만\":\n",
        "                        d.guild_score(\"알트만\", s)\n",
        "                    elif info2[7][j] == \"응\":\n",
        "                        d.guild_score(\"응\", s)\n",
        "                    elif info2[7][j] == \"하사비스\":\n",
        "                        d.guild_score(\"하사비스\", s)\n",
        "                elif gr_name == \"확산\" and k == \"확산\":\n",
        "                    if info2[7][j] == \"힌튼\":\n",
        "                        d.guild_score(\"힌튼\", s)\n",
        "                    elif info2[7][j] == \"알트만\":\n",
        "                        d.guild_score(\"알트만\", s)\n",
        "                    elif info2[7][j] == \"응\":\n",
        "                        d.guild_score(\"응\", s)\n",
        "                    elif info2[7][j] == \"하사비스\":\n",
        "                        d.guild_score(\"하사비스\", s)\n",
        "\n",
        "    def display_info(self):\n",
        "        rt_li = super().display_info()\n",
        "        rt_li.append(Aiffel.g_s_dict)\n",
        "\n",
        "        return rt_li\n",
        "\n",
        "class Aiffel_Guild(Aiffel):\n",
        "    def ran_group(self):\n",
        "        grews = self.display_info()\n",
        "        group = [\"힌튼\", \"알트만\", \"응\", \"하사비스\"]\n",
        "        grews_name = grews[0]\n",
        "        group_li = []\n",
        "        quotient = len(grews_name) // len(group)\n",
        "        remainder = len(grews_name) % len(group)\n",
        "        group2 = group*quotient\n",
        "        group0 = []\n",
        "        for i in range(remainder):\n",
        "            random.seed(1)\n",
        "            group1 = random.choice(group)\n",
        "            group0.append(group1)\n",
        "        group2 += group0\n",
        "        random.shuffle(group2)\n",
        "        grews.append(group2)\n",
        "\n",
        "        return grews\n",
        "\n",
        "    def guild_score(self, g_name, g_score):\n",
        "        info = self.ran_group()\n",
        "        for i in info:\n",
        "            for j, k in enumerate(i):\n",
        "                if k == \"힌튼\" and g_name == \"힌튼\":\n",
        "                    if g_score > 0:\n",
        "                        info[4][j] = int(info[4][j])\n",
        "                        info[3][j] = int(info[3][j])\n",
        "                        info[4][j] += g_score\n",
        "                        info[3][j] += g_score\n",
        "                    else:\n",
        "                        info[5][j] = int(info[5][j])\n",
        "                        info[3][j] = int(info[3][j])\n",
        "                        info[5][j] += g_score\n",
        "                        info[3][j] += g_score\n",
        "                elif k == \"알트만\" and g_name == \"알트만\":\n",
        "                    if g_score > 0:\n",
        "                        info[4][j] = int(info[4][j])\n",
        "                        info[3][j] = int(info[3][j])\n",
        "                        info[4][j] += g_score\n",
        "                        info[3][j] += g_score\n",
        "                    else:\n",
        "                        info[5][j] = int(info[5][j])\n",
        "                        info[3][j] = int(info[3][j])\n",
        "                        info[5][j] += g_score\n",
        "                        info[3][j] += g_score\n",
        "                elif k == \"응\" and g_name == \"응\":\n",
        "                    if g_score > 0:\n",
        "                        info[4][j] = int(info[4][j])\n",
        "                        info[3][j] = int(info[3][j])\n",
        "                        info[4][j] += g_score\n",
        "                        info[3][j] += g_score\n",
        "                    else:\n",
        "                        info[5][j] = int(info[5][j])\n",
        "                        info[3][j] = int(info[3][j])\n",
        "                        info[5][j] += g_score\n",
        "                        info[3][j] += g_score\n",
        "                        Aiffel.x[i][1] += g_score\n",
        "                        Aiffel.x[i][3] += g_score\n",
        "                elif k == \"하사비스\" and g_name == \"하사비스\":\n",
        "                    if g_score > 0:\n",
        "                        info[4][j] = int(info[4][j])\n",
        "                        info[3][j] = int(info[3][j])\n",
        "                        info[4][j] += g_score\n",
        "                        info[3][j] += g_score\n",
        "                    else:\n",
        "                        info[5][j] = int(info[5][j])\n",
        "                        info[3][j] = int(info[3][j])\n",
        "                        info[5][j] += g_score\n",
        "                        info[3][j] += g_score\n",
        "\n",
        "        if g_name == \"힌튼\":\n",
        "            Aiffel.g_s_dict[\"힌튼\"] += g_score\n",
        "        elif g_name == \"알트만\":\n",
        "            Aiffel.g_s_dict[\"알트만\"] += g_score\n",
        "        elif g_name == \"응\":\n",
        "            Aiffel.g_s_dict[\"응\"] += g_score\n",
        "        elif g_name == \"하사비스\":\n",
        "            Aiffel.g_s_dict[\"하사비스\"] += g_score\n",
        "\n",
        "        print(Aiffel.g_s_dict)\n",
        "        return info\n",
        "\n",
        "    def display_info(self):\n",
        "        rt_li = super().display_info()\n",
        "        rt_li.append(Aiffel.g_s_dict)\n",
        "\n",
        "        return rt_li\n"
      ]
    },
    {
      "cell_type": "code",
      "source": [
        "a = Aiffel(\"김건\", 2023, 27, \"코어\")"
      ],
      "metadata": {
        "id": "QuRaS2fMLMIq"
      },
      "execution_count": 367,
      "outputs": []
    },
    {
      "cell_type": "code",
      "source": [
        "a.pn_g()\n",
        "# pn_g 메서드를 수정할 때 똑같은 학번이 나와서 챗지피티에 물어보았습니다.\n",
        "# 그래서 for 문의 범위를 약간 수정했습니다."
      ],
      "metadata": {
        "colab": {
          "base_uri": "https://localhost:8080/"
        },
        "id": "uREqV8JlLU61",
        "outputId": "c9b28760-4bd1-4283-b83e-ee583424a3e1"
      },
      "execution_count": 368,
      "outputs": [
        {
          "output_type": "execute_result",
          "data": {
            "text/plain": [
              "{'김건': ['2327201', 0, 0, 0],\n",
              " '김경민': ['2327202', 0, 0, 0],\n",
              " '김소연': ['2327203', 0, 0, 0],\n",
              " '김영신': ['2327204', 0, 0, 0],\n",
              " '박근수': ['2327205', 0, 0, 0],\n",
              " '박영수': ['2327206', 0, 0, 0],\n",
              " '박영준': ['2327207', 0, 0, 0],\n",
              " '서원영': ['2327208', 0, 0, 0],\n",
              " '신지만': ['2327209', 0, 0, 0],\n",
              " '심지안': ['2327210', 0, 0, 0],\n",
              " '이규상': ['2327211', 0, 0, 0],\n",
              " '이윤상': ['2327212', 0, 0, 0],\n",
              " '이진영': ['2327213', 0, 0, 0],\n",
              " '임현석': ['2327214', 0, 0, 0],\n",
              " '전요한': ['2327215', 0, 0, 0],\n",
              " '전재영': ['2327216', 0, 0, 0],\n",
              " '조대희': ['2327217', 0, 0, 0]}"
            ]
          },
          "metadata": {},
          "execution_count": 368
        }
      ]
    },
    {
      "cell_type": "code",
      "source": [
        "a.get_id_num()"
      ],
      "metadata": {
        "colab": {
          "base_uri": "https://localhost:8080/"
        },
        "id": "DAQZkvdyLX5R",
        "outputId": "57454b22-86d1-426f-aa59-ee5f02e098dc"
      },
      "execution_count": 369,
      "outputs": [
        {
          "output_type": "stream",
          "name": "stdout",
          "text": [
            "17\n"
          ]
        }
      ]
    },
    {
      "cell_type": "code",
      "source": [
        "a.score(2)"
      ],
      "metadata": {
        "id": "KiLPYbJpLk0d",
        "colab": {
          "base_uri": "https://localhost:8080/"
        },
        "outputId": "9dd9b620-e35d-4bcd-d973-02e3ef23c2c3"
      },
      "execution_count": 370,
      "outputs": [
        {
          "output_type": "execute_result",
          "data": {
            "text/plain": [
              "2"
            ]
          },
          "metadata": {},
          "execution_count": 370
        }
      ]
    },
    {
      "cell_type": "code",
      "source": [
        "a.penalty(-1)"
      ],
      "metadata": {
        "colab": {
          "base_uri": "https://localhost:8080/"
        },
        "id": "GVlG_rIFRiiI",
        "outputId": "1ce0c80f-0045-46a1-f477-bfc05806679a"
      },
      "execution_count": 371,
      "outputs": [
        {
          "output_type": "execute_result",
          "data": {
            "text/plain": [
              "1"
            ]
          },
          "metadata": {},
          "execution_count": 371
        }
      ]
    },
    {
      "cell_type": "code",
      "source": [
        "a.display_info()"
      ],
      "metadata": {
        "colab": {
          "base_uri": "https://localhost:8080/"
        },
        "id": "EtG4RWYaRo0R",
        "outputId": "79abd27c-fe38-4d5f-a03a-4b2a92b44b1c"
      },
      "execution_count": 372,
      "outputs": [
        {
          "output_type": "execute_result",
          "data": {
            "text/plain": [
              "[['김건',\n",
              "  '김경민',\n",
              "  '김소연',\n",
              "  '김영신',\n",
              "  '박근수',\n",
              "  '박영수',\n",
              "  '박영준',\n",
              "  '서원영',\n",
              "  '신지만',\n",
              "  '심지안',\n",
              "  '이규상',\n",
              "  '이윤상',\n",
              "  '이진영',\n",
              "  '임현석',\n",
              "  '전요한',\n",
              "  '전재영',\n",
              "  '조대희'],\n",
              " [\"['2327201', 1, 2, -1]\",\n",
              "  \"['2327202', 0, 0, 0]\",\n",
              "  \"['2327203', 0, 0, 0]\",\n",
              "  \"['2327204', 0, 0, 0]\",\n",
              "  \"['2327205', 0, 0, 0]\",\n",
              "  \"['2327206', 0, 0, 0]\",\n",
              "  \"['2327207', 0, 0, 0]\",\n",
              "  \"['2327208', 0, 0, 0]\",\n",
              "  \"['2327209', 0, 0, 0]\",\n",
              "  \"['2327210', 0, 0, 0]\",\n",
              "  \"['2327211', 0, 0, 0]\",\n",
              "  \"['2327212', 0, 0, 0]\",\n",
              "  \"['2327213', 0, 0, 0]\",\n",
              "  \"['2327214', 0, 0, 0]\",\n",
              "  \"['2327215', 0, 0, 0]\",\n",
              "  \"['2327216', 0, 0, 0]\",\n",
              "  \"['2327217', 0, 0, 0]\"],\n",
              " ['코어',\n",
              "  '코어',\n",
              "  '코어',\n",
              "  '코어',\n",
              "  '코어',\n",
              "  '코어',\n",
              "  '코어',\n",
              "  '코어',\n",
              "  '코어',\n",
              "  '코어',\n",
              "  '코어',\n",
              "  '코어',\n",
              "  '코어',\n",
              "  '코어',\n",
              "  '코어',\n",
              "  '코어',\n",
              "  '코어'],\n",
              " ['1',\n",
              "  '0',\n",
              "  '0',\n",
              "  '0',\n",
              "  '0',\n",
              "  '0',\n",
              "  '0',\n",
              "  '0',\n",
              "  '0',\n",
              "  '0',\n",
              "  '0',\n",
              "  '0',\n",
              "  '0',\n",
              "  '0',\n",
              "  '0',\n",
              "  '0',\n",
              "  '0'],\n",
              " ['2',\n",
              "  '0',\n",
              "  '0',\n",
              "  '0',\n",
              "  '0',\n",
              "  '0',\n",
              "  '0',\n",
              "  '0',\n",
              "  '0',\n",
              "  '0',\n",
              "  '0',\n",
              "  '0',\n",
              "  '0',\n",
              "  '0',\n",
              "  '0',\n",
              "  '0',\n",
              "  '0'],\n",
              " ['-1',\n",
              "  '0',\n",
              "  '0',\n",
              "  '0',\n",
              "  '0',\n",
              "  '0',\n",
              "  '0',\n",
              "  '0',\n",
              "  '0',\n",
              "  '0',\n",
              "  '0',\n",
              "  '0',\n",
              "  '0',\n",
              "  '0',\n",
              "  '0',\n",
              "  '0',\n",
              "  '0']]"
            ]
          },
          "metadata": {},
          "execution_count": 372
        }
      ]
    },
    {
      "cell_type": "code",
      "source": [
        "a.del_grew(\"김경민\", \"김영신\")"
      ],
      "metadata": {
        "colab": {
          "base_uri": "https://localhost:8080/"
        },
        "id": "IkEGR3cTRwvf",
        "outputId": "deb040b7-fde1-43dd-f71b-8584b81ac7be"
      },
      "execution_count": 373,
      "outputs": [
        {
          "output_type": "execute_result",
          "data": {
            "text/plain": [
              "{'김건': ['2327201', 1, 2, -1],\n",
              " '김소연': ['2327203', 0, 0, 0],\n",
              " '박근수': ['2327205', 0, 0, 0],\n",
              " '박영수': ['2327206', 0, 0, 0],\n",
              " '박영준': ['2327207', 0, 0, 0],\n",
              " '서원영': ['2327208', 0, 0, 0],\n",
              " '신지만': ['2327209', 0, 0, 0],\n",
              " '심지안': ['2327210', 0, 0, 0],\n",
              " '이규상': ['2327211', 0, 0, 0],\n",
              " '이윤상': ['2327212', 0, 0, 0],\n",
              " '이진영': ['2327213', 0, 0, 0],\n",
              " '임현석': ['2327214', 0, 0, 0],\n",
              " '전요한': ['2327215', 0, 0, 0],\n",
              " '전재영': ['2327216', 0, 0, 0],\n",
              " '조대희': ['2327217', 0, 0, 0]}"
            ]
          },
          "metadata": {},
          "execution_count": 373
        }
      ]
    },
    {
      "cell_type": "code",
      "source": [
        "b = Aiffel_Group(\"김건\", 2023, 27, \"코어\")"
      ],
      "metadata": {
        "id": "YtDy5kbHSA1T"
      },
      "execution_count": 374,
      "outputs": []
    },
    {
      "cell_type": "code",
      "source": [
        "b.ran_group()"
      ],
      "metadata": {
        "colab": {
          "base_uri": "https://localhost:8080/"
        },
        "id": "BFRmpQ_2MiJQ",
        "outputId": "5f26cb4a-7f7b-475f-ddf6-fe00004301d5"
      },
      "execution_count": 375,
      "outputs": [
        {
          "output_type": "execute_result",
          "data": {
            "text/plain": [
              "[['김건',\n",
              "  '김소연',\n",
              "  '박근수',\n",
              "  '박영수',\n",
              "  '박영준',\n",
              "  '서원영',\n",
              "  '신지만',\n",
              "  '심지안',\n",
              "  '이규상',\n",
              "  '이윤상',\n",
              "  '이진영',\n",
              "  '임현석',\n",
              "  '전요한',\n",
              "  '전재영',\n",
              "  '조대희'],\n",
              " [\"['2327201', 1, 2, -1]\",\n",
              "  \"['2327202', 0, 0, 0]\",\n",
              "  \"['2327203', 0, 0, 0]\",\n",
              "  \"['2327204', 0, 0, 0]\",\n",
              "  \"['2327205', 0, 0, 0]\",\n",
              "  \"['2327206', 0, 0, 0]\",\n",
              "  \"['2327207', 0, 0, 0]\",\n",
              "  \"['2327208', 0, 0, 0]\",\n",
              "  \"['2327209', 0, 0, 0]\",\n",
              "  \"['2327210', 0, 0, 0]\",\n",
              "  \"['2327211', 0, 0, 0]\",\n",
              "  \"['2327212', 0, 0, 0]\",\n",
              "  \"['2327213', 0, 0, 0]\",\n",
              "  \"['2327214', 0, 0, 0]\",\n",
              "  \"['2327215', 0, 0, 0]\"],\n",
              " ['코어',\n",
              "  '코어',\n",
              "  '코어',\n",
              "  '코어',\n",
              "  '코어',\n",
              "  '코어',\n",
              "  '코어',\n",
              "  '코어',\n",
              "  '코어',\n",
              "  '코어',\n",
              "  '코어',\n",
              "  '코어',\n",
              "  '코어',\n",
              "  '코어',\n",
              "  '코어'],\n",
              " ['1', '0', '0', '0', '0', '0', '0', '0', '0', '0', '0', '0', '0', '0', '0'],\n",
              " ['2', '0', '0', '0', '0', '0', '0', '0', '0', '0', '0', '0', '0', '0', '0'],\n",
              " ['-1', '0', '0', '0', '0', '0', '0', '0', '0', '0', '0', '0', '0', '0', '0'],\n",
              " {'힌튼': 0, '알트만': 0, '응': 0, '하사비스': 0},\n",
              " ['열정',\n",
              "  '열정',\n",
              "  '상생',\n",
              "  '열정',\n",
              "  '공유',\n",
              "  '가치',\n",
              "  '이끔',\n",
              "  '열정',\n",
              "  '확산',\n",
              "  '열정',\n",
              "  '성장',\n",
              "  '신뢰',\n",
              "  '열정',\n",
              "  '열정',\n",
              "  '열정']]"
            ]
          },
          "metadata": {},
          "execution_count": 375
        }
      ]
    },
    {
      "cell_type": "code",
      "source": [
        "b.group2guild_score(\"열정\", 2)\n",
        "# 열정 그룹원이 8명이기 때문에 8번 출력되는 것 같습니다."
      ],
      "metadata": {
        "colab": {
          "base_uri": "https://localhost:8080/"
        },
        "id": "71ssYxLJiqX1",
        "outputId": "9b660a03-52b6-4984-e725-1c45f5d9c575"
      },
      "execution_count": 376,
      "outputs": [
        {
          "output_type": "stream",
          "name": "stdout",
          "text": [
            "{'힌튼': 0, '알트만': 0, '응': 2, '하사비스': 0}\n",
            "{'힌튼': 0, '알트만': 0, '응': 4, '하사비스': 0}\n",
            "{'힌튼': 0, '알트만': 2, '응': 4, '하사비스': 0}\n",
            "{'힌튼': 2, '알트만': 2, '응': 4, '하사비스': 0}\n",
            "{'힌튼': 2, '알트만': 2, '응': 4, '하사비스': 2}\n",
            "{'힌튼': 2, '알트만': 4, '응': 4, '하사비스': 2}\n",
            "{'힌튼': 2, '알트만': 6, '응': 4, '하사비스': 2}\n",
            "{'힌튼': 2, '알트만': 8, '응': 4, '하사비스': 2}\n"
          ]
        }
      ]
    },
    {
      "cell_type": "code",
      "source": [
        "b.display_info()"
      ],
      "metadata": {
        "colab": {
          "base_uri": "https://localhost:8080/"
        },
        "id": "YQeDgbb9FY2R",
        "outputId": "9bfb501d-ab67-4c29-e7c2-c9a1a21cb6c0"
      },
      "execution_count": 377,
      "outputs": [
        {
          "output_type": "execute_result",
          "data": {
            "text/plain": [
              "[['김건',\n",
              "  '김소연',\n",
              "  '박근수',\n",
              "  '박영수',\n",
              "  '박영준',\n",
              "  '서원영',\n",
              "  '신지만',\n",
              "  '심지안',\n",
              "  '이규상',\n",
              "  '이윤상',\n",
              "  '이진영',\n",
              "  '임현석',\n",
              "  '전요한',\n",
              "  '전재영',\n",
              "  '조대희'],\n",
              " [\"['2327201', 1, 2, -1]\",\n",
              "  \"['2327202', 0, 0, 0]\",\n",
              "  \"['2327203', 0, 0, 0]\",\n",
              "  \"['2327204', 0, 0, 0]\",\n",
              "  \"['2327205', 0, 0, 0]\",\n",
              "  \"['2327206', 0, 0, 0]\",\n",
              "  \"['2327207', 0, 0, 0]\",\n",
              "  \"['2327208', 0, 0, 0]\",\n",
              "  \"['2327209', 0, 0, 0]\",\n",
              "  \"['2327210', 0, 0, 0]\",\n",
              "  \"['2327211', 0, 0, 0]\",\n",
              "  \"['2327212', 0, 0, 0]\",\n",
              "  \"['2327213', 0, 0, 0]\",\n",
              "  \"['2327214', 0, 0, 0]\",\n",
              "  \"['2327215', 0, 0, 0]\"],\n",
              " ['코어',\n",
              "  '코어',\n",
              "  '코어',\n",
              "  '코어',\n",
              "  '코어',\n",
              "  '코어',\n",
              "  '코어',\n",
              "  '코어',\n",
              "  '코어',\n",
              "  '코어',\n",
              "  '코어',\n",
              "  '코어',\n",
              "  '코어',\n",
              "  '코어',\n",
              "  '코어'],\n",
              " ['1', '0', '0', '0', '0', '0', '0', '0', '0', '0', '0', '0', '0', '0', '0'],\n",
              " ['2', '0', '0', '0', '0', '0', '0', '0', '0', '0', '0', '0', '0', '0', '0'],\n",
              " ['-1', '0', '0', '0', '0', '0', '0', '0', '0', '0', '0', '0', '0', '0', '0'],\n",
              " {'힌튼': 2, '알트만': 8, '응': 4, '하사비스': 2}]"
            ]
          },
          "metadata": {},
          "execution_count": 377
        }
      ]
    },
    {
      "cell_type": "code",
      "source": [
        "c = Aiffel_Guild(\"김건\", 2023, 27, \"코어\")"
      ],
      "metadata": {
        "id": "iFU1xYCbMpqD"
      },
      "execution_count": 378,
      "outputs": []
    },
    {
      "cell_type": "code",
      "source": [
        "c.ran_group()"
      ],
      "metadata": {
        "colab": {
          "base_uri": "https://localhost:8080/"
        },
        "id": "OrQdV3y-Mvi6",
        "outputId": "d79ab452-51df-4a3d-8fa8-d94f4f86ebdf"
      },
      "execution_count": 379,
      "outputs": [
        {
          "output_type": "execute_result",
          "data": {
            "text/plain": [
              "[['김건',\n",
              "  '김소연',\n",
              "  '박근수',\n",
              "  '박영수',\n",
              "  '박영준',\n",
              "  '서원영',\n",
              "  '신지만',\n",
              "  '심지안',\n",
              "  '이규상',\n",
              "  '이윤상',\n",
              "  '이진영',\n",
              "  '임현석',\n",
              "  '전요한',\n",
              "  '전재영',\n",
              "  '조대희'],\n",
              " [\"['2327201', 1, 2, -1]\",\n",
              "  \"['2327202', 0, 0, 0]\",\n",
              "  \"['2327203', 0, 0, 0]\",\n",
              "  \"['2327204', 0, 0, 0]\",\n",
              "  \"['2327205', 0, 0, 0]\",\n",
              "  \"['2327206', 0, 0, 0]\",\n",
              "  \"['2327207', 0, 0, 0]\",\n",
              "  \"['2327208', 0, 0, 0]\",\n",
              "  \"['2327209', 0, 0, 0]\",\n",
              "  \"['2327210', 0, 0, 0]\",\n",
              "  \"['2327211', 0, 0, 0]\",\n",
              "  \"['2327212', 0, 0, 0]\",\n",
              "  \"['2327213', 0, 0, 0]\",\n",
              "  \"['2327214', 0, 0, 0]\",\n",
              "  \"['2327215', 0, 0, 0]\"],\n",
              " ['코어',\n",
              "  '코어',\n",
              "  '코어',\n",
              "  '코어',\n",
              "  '코어',\n",
              "  '코어',\n",
              "  '코어',\n",
              "  '코어',\n",
              "  '코어',\n",
              "  '코어',\n",
              "  '코어',\n",
              "  '코어',\n",
              "  '코어',\n",
              "  '코어',\n",
              "  '코어'],\n",
              " ['1', '0', '0', '0', '0', '0', '0', '0', '0', '0', '0', '0', '0', '0', '0'],\n",
              " ['2', '0', '0', '0', '0', '0', '0', '0', '0', '0', '0', '0', '0', '0', '0'],\n",
              " ['-1', '0', '0', '0', '0', '0', '0', '0', '0', '0', '0', '0', '0', '0', '0'],\n",
              " {'힌튼': 2, '알트만': 8, '응': 4, '하사비스': 2},\n",
              " ['응',\n",
              "  '응',\n",
              "  '힌튼',\n",
              "  '알트만',\n",
              "  '응',\n",
              "  '알트만',\n",
              "  '하사비스',\n",
              "  '힌튼',\n",
              "  '하사비스',\n",
              "  '하사비스',\n",
              "  '힌튼',\n",
              "  '알트만',\n",
              "  '알트만',\n",
              "  '알트만',\n",
              "  '알트만']]"
            ]
          },
          "metadata": {},
          "execution_count": 379
        }
      ]
    },
    {
      "cell_type": "code",
      "source": [
        "c.guild_score(\"응\", 2)"
      ],
      "metadata": {
        "colab": {
          "base_uri": "https://localhost:8080/"
        },
        "id": "hacG2eeUM0nc",
        "outputId": "8ee87d08-8eac-4a93-ba4b-a5a47abc525b"
      },
      "execution_count": 380,
      "outputs": [
        {
          "output_type": "stream",
          "name": "stdout",
          "text": [
            "{'힌튼': 2, '알트만': 8, '응': 6, '하사비스': 2}\n"
          ]
        },
        {
          "output_type": "execute_result",
          "data": {
            "text/plain": [
              "[['김건',\n",
              "  '김소연',\n",
              "  '박근수',\n",
              "  '박영수',\n",
              "  '박영준',\n",
              "  '서원영',\n",
              "  '신지만',\n",
              "  '심지안',\n",
              "  '이규상',\n",
              "  '이윤상',\n",
              "  '이진영',\n",
              "  '임현석',\n",
              "  '전요한',\n",
              "  '전재영',\n",
              "  '조대희'],\n",
              " [\"['2327201', 1, 2, -1]\",\n",
              "  \"['2327202', 0, 0, 0]\",\n",
              "  \"['2327203', 0, 0, 0]\",\n",
              "  \"['2327204', 0, 0, 0]\",\n",
              "  \"['2327205', 0, 0, 0]\",\n",
              "  \"['2327206', 0, 0, 0]\",\n",
              "  \"['2327207', 0, 0, 0]\",\n",
              "  \"['2327208', 0, 0, 0]\",\n",
              "  \"['2327209', 0, 0, 0]\",\n",
              "  \"['2327210', 0, 0, 0]\",\n",
              "  \"['2327211', 0, 0, 0]\",\n",
              "  \"['2327212', 0, 0, 0]\",\n",
              "  \"['2327213', 0, 0, 0]\",\n",
              "  \"['2327214', 0, 0, 0]\",\n",
              "  \"['2327215', 0, 0, 0]\"],\n",
              " ['코어',\n",
              "  '코어',\n",
              "  '코어',\n",
              "  '코어',\n",
              "  '코어',\n",
              "  '코어',\n",
              "  '코어',\n",
              "  '코어',\n",
              "  '코어',\n",
              "  '코어',\n",
              "  '코어',\n",
              "  '코어',\n",
              "  '코어',\n",
              "  '코어',\n",
              "  '코어'],\n",
              " [3, 2, 2, '0', 2, '0', '0', '0', '0', '0', '0', '0', '0', '0', '0'],\n",
              " [4, 2, 2, '0', 2, '0', '0', '0', '0', '0', '0', '0', '0', '0', '0'],\n",
              " ['-1', '0', '0', '0', '0', '0', '0', '0', '0', '0', '0', '0', '0', '0', '0'],\n",
              " {'힌튼': 2, '알트만': 8, '응': 6, '하사비스': 2},\n",
              " ['응',\n",
              "  '응',\n",
              "  '힌튼',\n",
              "  '알트만',\n",
              "  '응',\n",
              "  '알트만',\n",
              "  '하사비스',\n",
              "  '힌튼',\n",
              "  '하사비스',\n",
              "  '하사비스',\n",
              "  '힌튼',\n",
              "  '알트만',\n",
              "  '알트만',\n",
              "  '알트만',\n",
              "  '알트만']]"
            ]
          },
          "metadata": {},
          "execution_count": 380
        }
      ]
    },
    {
      "cell_type": "code",
      "source": [
        "c.display_info()"
      ],
      "metadata": {
        "id": "ro5Hfi8AM_iy",
        "colab": {
          "base_uri": "https://localhost:8080/"
        },
        "outputId": "cdaeb8cf-80a4-4cb0-9c98-830ab7df7877"
      },
      "execution_count": 381,
      "outputs": [
        {
          "output_type": "execute_result",
          "data": {
            "text/plain": [
              "[['김건',\n",
              "  '김소연',\n",
              "  '박근수',\n",
              "  '박영수',\n",
              "  '박영준',\n",
              "  '서원영',\n",
              "  '신지만',\n",
              "  '심지안',\n",
              "  '이규상',\n",
              "  '이윤상',\n",
              "  '이진영',\n",
              "  '임현석',\n",
              "  '전요한',\n",
              "  '전재영',\n",
              "  '조대희'],\n",
              " [\"['2327201', 1, 2, -1]\",\n",
              "  \"['2327202', 0, 0, 0]\",\n",
              "  \"['2327203', 0, 0, 0]\",\n",
              "  \"['2327204', 0, 0, 0]\",\n",
              "  \"['2327205', 0, 0, 0]\",\n",
              "  \"['2327206', 0, 0, 0]\",\n",
              "  \"['2327207', 0, 0, 0]\",\n",
              "  \"['2327208', 0, 0, 0]\",\n",
              "  \"['2327209', 0, 0, 0]\",\n",
              "  \"['2327210', 0, 0, 0]\",\n",
              "  \"['2327211', 0, 0, 0]\",\n",
              "  \"['2327212', 0, 0, 0]\",\n",
              "  \"['2327213', 0, 0, 0]\",\n",
              "  \"['2327214', 0, 0, 0]\",\n",
              "  \"['2327215', 0, 0, 0]\"],\n",
              " ['코어',\n",
              "  '코어',\n",
              "  '코어',\n",
              "  '코어',\n",
              "  '코어',\n",
              "  '코어',\n",
              "  '코어',\n",
              "  '코어',\n",
              "  '코어',\n",
              "  '코어',\n",
              "  '코어',\n",
              "  '코어',\n",
              "  '코어',\n",
              "  '코어',\n",
              "  '코어'],\n",
              " ['1', '0', '0', '0', '0', '0', '0', '0', '0', '0', '0', '0', '0', '0', '0'],\n",
              " ['2', '0', '0', '0', '0', '0', '0', '0', '0', '0', '0', '0', '0', '0', '0'],\n",
              " ['-1', '0', '0', '0', '0', '0', '0', '0', '0', '0', '0', '0', '0', '0', '0'],\n",
              " {'힌튼': 2, '알트만': 8, '응': 6, '하사비스': 2}]"
            ]
          },
          "metadata": {},
          "execution_count": 381
        }
      ]
    },
    {
      "cell_type": "code",
      "source": [],
      "metadata": {
        "id": "L9BCm_P9Grcj"
      },
      "execution_count": null,
      "outputs": []
    }
  ]
}