{
  "nbformat": 4,
  "nbformat_minor": 0,
  "metadata": {
    "colab": {
      "provenance": [],
      "include_colab_link": true
    },
    "kernelspec": {
      "name": "python3",
      "display_name": "Python 3"
    },
    "language_info": {
      "name": "python"
    }
  },
  "cells": [
    {
      "cell_type": "markdown",
      "metadata": {
        "id": "view-in-github",
        "colab_type": "text"
      },
      "source": [
        "<a href=\"https://colab.research.google.com/github/passgiant/AIFFEL_Quest/blob/main/Python_quest/Quest04/test04.ipynb\" target=\"_parent\"><img src=\"https://colab.research.google.com/assets/colab-badge.svg\" alt=\"Open In Colab\"/></a>"
      ]
    },
    {
      "cell_type": "code",
      "execution_count": null,
      "metadata": {
        "id": "mcuWdpWgNumb",
        "colab": {
          "base_uri": "https://localhost:8080/"
        },
        "outputId": "2d50e76e-6f15-44f2-f5ef-185974a2a714"
      },
      "outputs": [
        {
          "output_type": "stream",
          "name": "stdout",
          "text": [
            "Using Comprenhension:\n",
            "Nemo is swimming at 3 m/s\n",
            "Dory is swimming at 5 m/s\n",
            "Using Generator:\n",
            "Nemo is swimming at 3 m/s\n",
            "Dory is swimming at 5 m/s\n"
          ]
        }
      ],
      "source": [
        "fish_list = [\n",
        " {\"이름\": \"Nemo\", \"speed\": 3},\n",
        "{\"이름\": \"Dory\", \"speed\": 5},\n",
        "]\n",
        "\n",
        "def show_fish_movement_comprehension(f_li):\n",
        "    fish = [f\"{i['이름']} is swimming at {i['speed']} m/s\" for i in f_li]   # fish_list를 인자로 준 변수 f_li의 요소 하나마다 f 스트링으로 key와 value를 받아서 출력한 다음 컴프리헨션으로 fish라는 리스트로 만듦\n",
        "\n",
        "    for x in fish:  # fish 리스트 요소 하나마다 출력\n",
        "        print(x)\n",
        "\n",
        "def show_fish_movement_Generator(f_ls):\n",
        "    for x in f_ls:  # fish_list를 인자로 준 변수 f_li의 요소 하나마다 yield를 써서 뽑음\n",
        "        yield f\"{x['이름']} is swimming at {x['speed']} m/s\"\n",
        "\n",
        "print(\"Using Comprenhension:\")\n",
        "show_fish_movement_comprehension(fish_list)\n",
        "\n",
        "print(\"Using Generator:\")\n",
        "gen = show_fish_movement_Generator(fish_list)   # 함수를 gen이라는 변수에 저장했음\n",
        "print(next(gen))    # next 함수로 반복적으로 출력함\n",
        "print(next(gen))    # next 함수로 반복적으로 출력함"
      ]
    },
    {
      "cell_type": "markdown",
      "source": [
        "1 배운 점  \n",
        "리스트에 f 스트링도 저장할 수 있다는 점을 알았다.  \n",
        "2 아쉬운 점  \n",
        "next 함수를 쓰지 않을 수는 없는 것 같았다.  \n",
        "3 느낀 점  \n",
        "같이 코딩하는 분과의 협업이 중요함을 느꼈다."
      ],
      "metadata": {
        "id": "NnIbv6saZvn7"
      }
    }
  ]
}