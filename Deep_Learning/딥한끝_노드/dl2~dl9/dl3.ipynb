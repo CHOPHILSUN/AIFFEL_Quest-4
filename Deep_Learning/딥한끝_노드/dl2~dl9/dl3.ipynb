{
 "cells": [
  {
   "cell_type": "code",
   "execution_count": 1,
   "id": "34a2917a",
   "metadata": {},
   "outputs": [],
   "source": [
    "import tensorflow as tf\n",
    "from tensorflow import keras\n",
    "from tensorflow.keras import layers"
   ]
  },
  {
   "cell_type": "code",
   "execution_count": 2,
   "id": "53c037e7",
   "metadata": {},
   "outputs": [
    {
     "data": {
      "text/plain": [
       "<KerasTensor: shape=(None, 8) dtype=int32 (created by layer 'input_1')>"
      ]
     },
     "execution_count": 2,
     "metadata": {},
     "output_type": "execute_result"
    }
   ],
   "source": [
    "keras.Input(shape=(8,), dtype=tf.int32)"
   ]
  },
  {
   "cell_type": "code",
   "execution_count": 3,
   "id": "f7931c58",
   "metadata": {},
   "outputs": [
    {
     "data": {
      "text/plain": [
       "<KerasTensor: shape=(None, 28, 28) dtype=float32 (created by layer 'input_2')>"
      ]
     },
     "execution_count": 3,
     "metadata": {},
     "output_type": "execute_result"
    }
   ],
   "source": [
    "keras.Input(shape=(28, 28), dtype=tf.float32)"
   ]
  },
  {
   "cell_type": "code",
   "execution_count": 4,
   "id": "1f26be99",
   "metadata": {},
   "outputs": [
    {
     "data": {
      "text/plain": [
       "<KerasTensor: shape=(16, 28, 28) dtype=float32 (created by layer 'input_3')>"
      ]
     },
     "execution_count": 4,
     "metadata": {},
     "output_type": "execute_result"
    }
   ],
   "source": [
    "keras.Input(shape=(28, 28), dtype=tf.float32, batch_size=16)"
   ]
  },
  {
   "cell_type": "code",
   "execution_count": 5,
   "id": "a99e54b6",
   "metadata": {},
   "outputs": [
    {
     "data": {
      "text/plain": [
       "<KerasTensor: shape=(16, 28, 28) dtype=float32 (created by layer 'input')>"
      ]
     },
     "execution_count": 5,
     "metadata": {},
     "output_type": "execute_result"
    }
   ],
   "source": [
    "keras.Input(shape=(28, 28), dtype=tf.float32, batch_size=16, name='input')"
   ]
  },
  {
   "cell_type": "code",
   "execution_count": 6,
   "id": "71247ca4",
   "metadata": {},
   "outputs": [
    {
     "data": {
      "text/plain": [
       "<keras.layers.core.Dense at 0x7fe48fbd5cd0>"
      ]
     },
     "execution_count": 6,
     "metadata": {},
     "output_type": "execute_result"
    }
   ],
   "source": [
    "layers.Dense(10)"
   ]
  },
  {
   "cell_type": "code",
   "execution_count": 7,
   "id": "cc1fb7f7",
   "metadata": {},
   "outputs": [
    {
     "data": {
      "text/plain": [
       "<keras.layers.core.Dense at 0x7fe48de11580>"
      ]
     },
     "execution_count": 7,
     "metadata": {},
     "output_type": "execute_result"
    }
   ],
   "source": [
    "layers.Dense(10, name='layer1')"
   ]
  },
  {
   "cell_type": "code",
   "execution_count": 8,
   "id": "8ff0f8cf",
   "metadata": {},
   "outputs": [
    {
     "data": {
      "text/plain": [
       "<keras.layers.core.Dense at 0x7fe48de03c70>"
      ]
     },
     "execution_count": 8,
     "metadata": {},
     "output_type": "execute_result"
    }
   ],
   "source": [
    "layers.Dense(10, activation='softmax')"
   ]
  },
  {
   "cell_type": "code",
   "execution_count": 9,
   "id": "4ea69ecd",
   "metadata": {},
   "outputs": [
    {
     "data": {
      "text/plain": [
       "<keras.layers.core.Dense at 0x7fe48de11b80>"
      ]
     },
     "execution_count": 9,
     "metadata": {},
     "output_type": "execute_result"
    }
   ],
   "source": [
    "layers.Dense(10, activation='relu', name='Dense Layer')"
   ]
  },
  {
   "cell_type": "code",
   "execution_count": 10,
   "id": "4032e001",
   "metadata": {},
   "outputs": [
    {
     "name": "stdout",
     "output_type": "stream",
     "text": [
      "tf.Tensor(\n",
      "[[0.9033209  0.97273433]\n",
      " [0.55051935 0.95117235]\n",
      " [0.1902349  0.71401787]\n",
      " [0.18301046 0.0493412 ]\n",
      " [0.87468433 0.92735887]], shape=(5, 2), dtype=float32)\n",
      "[<tf.Variable 'dense_2/kernel:0' shape=(2, 10) dtype=float32, numpy=\n",
      "array([[-0.22650069,  0.18180853,  0.5770915 ,  0.3863278 ,  0.3718254 ,\n",
      "         0.37116188,  0.05957556, -0.692119  ,  0.6844093 , -0.5775828 ],\n",
      "       [ 0.25241745, -0.32856923, -0.4756098 , -0.16912836,  0.28587466,\n",
      "        -0.63886106, -0.5244715 , -0.4106086 , -0.00190705,  0.08793736]],\n",
      "      dtype=float32)>, <tf.Variable 'dense_2/bias:0' shape=(10,) dtype=float32, numpy=array([0., 0., 0., 0., 0., 0., 0., 0., 0., 0.], dtype=float32)>]\n",
      "<tf.Variable 'dense_2/bias:0' shape=(10,) dtype=float32, numpy=array([0., 0., 0., 0., 0., 0., 0., 0., 0., 0.], dtype=float32)>\n",
      "tf.Tensor(\n",
      "[[0.04093231 0.         0.05865683 0.18446103 0.61395776 0.\n",
      "  0.         0.         0.6163862  0.        ]\n",
      " [0.11539948 0.         0.         0.05181072 0.47661316 0.\n",
      "  0.         0.         0.37496662 0.        ]\n",
      " [0.13714223 0.         0.         0.         0.2748538  0.\n",
      "  0.         0.         0.12883687 0.        ]\n",
      " [0.         0.01706086 0.08214662 0.06235703 0.08215334 0.03640433\n",
      "  0.         0.         0.12515996 0.        ]\n",
      " [0.03596495 0.         0.06371193 0.1810722  0.59033823 0.\n",
      "  0.         0.         0.5968736  0.        ]], shape=(5, 10), dtype=float32)\n"
     ]
    }
   ],
   "source": [
    "inputs = tf.random.uniform(shape=(5, 2))\n",
    "print(inputs)\n",
    "layer = layers.Dense(10, activation='relu')\n",
    "outputs = layer(inputs)\n",
    "print(layer.weights)\n",
    "print(layer.bias)\n",
    "print(outputs)"
   ]
  },
  {
   "cell_type": "code",
   "execution_count": 11,
   "id": "3c74d333",
   "metadata": {},
   "outputs": [
    {
     "data": {
      "image/png": "[encoded data removed]",
      "text/plain": [
       "<Figure size 432x288 with 1 Axes>"
      ]
     },
     "metadata": {
      "needs_background": "light"
     },
     "output_type": "display_data"
    }
   ],
   "source": [
    "import numpy as np\n",
    "import matplotlib.pyplot as plt\n",
    "\n",
    "input = np.linspace(-10, 10, 100)\n",
    "x = np.linspace(-10, 10, 100)\n",
    "plt.scatter(x, input)\n",
    "plt.show()"
   ]
  },
  {
   "cell_type": "code",
   "execution_count": 12,
   "id": "ab002d89",
   "metadata": {},
   "outputs": [
    {
     "data": {
      "image/png": "[encoded data removed]",
      "text/plain": [
       "<Figure size 432x288 with 1 Axes>"
      ]
     },
     "metadata": {
      "needs_background": "light"
     },
     "output_type": "display_data"
    }
   ],
   "source": [
    "layer = layers.Activation('sigmoid')\n",
    "output = layer(input)\n",
    "\n",
    "plt.scatter(x, output)\n",
    "plt.show()"
   ]
  },
  {
   "cell_type": "code",
   "execution_count": 13,
   "id": "7400a4e3",
   "metadata": {},
   "outputs": [
    {
     "data": {
      "image/png": "[encoded data removed]",
      "text/plain": [
       "<Figure size 432x288 with 1 Axes>"
      ]
     },
     "metadata": {
      "needs_background": "light"
     },
     "output_type": "display_data"
    }
   ],
   "source": [
    "layer = layers.Activation('tanh')\n",
    "output = layer(input)\n",
    "\n",
    "plt.scatter(x, output)\n",
    "plt.show()"
   ]
  },
  {
   "cell_type": "code",
   "execution_count": 14,
   "id": "0f3ca488",
   "metadata": {},
   "outputs": [
    {
     "data": {
      "image/png": "[encoded data removed]",
      "text/plain": [
       "<Figure size 432x288 with 1 Axes>"
      ]
     },
     "metadata": {
      "needs_background": "light"
     },
     "output_type": "display_data"
    }
   ],
   "source": [
    "layer = layers.Activation('relu')\n",
    "output = layer(input)\n",
    "\n",
    "plt.scatter(x, output)\n",
    "plt.show()"
   ]
  },
  {
   "cell_type": "code",
   "execution_count": 15,
   "id": "47ef7c0f",
   "metadata": {},
   "outputs": [
    {
     "data": {
      "image/png": "[encoded data removed]",
      "text/plain": [
       "<Figure size 432x288 with 1 Axes>"
      ]
     },
     "metadata": {
      "needs_background": "light"
     },
     "output_type": "display_data"
    }
   ],
   "source": [
    "layer = layers.LeakyReLU()\n",
    "output = layer(input)\n",
    "\n",
    "plt.scatter(x, output)\n",
    "plt.show()"
   ]
  },
  {
   "cell_type": "code",
   "execution_count": 16,
   "id": "4f1d354e",
   "metadata": {},
   "outputs": [
    {
     "data": {
      "image/png": "[encoded data removed]",
      "text/plain": [
       "<Figure size 432x288 with 1 Axes>"
      ]
     },
     "metadata": {
      "needs_background": "light"
     },
     "output_type": "display_data"
    }
   ],
   "source": [
    "layer = layers.ELU()\n",
    "output = layer(input)\n",
    "\n",
    "plt.scatter(x, output)\n",
    "plt.show()"
   ]
  },
  {
   "cell_type": "code",
   "execution_count": 17,
   "id": "c6618cb7",
   "metadata": {},
   "outputs": [
    {
     "name": "stdout",
     "output_type": "stream",
     "text": [
      "(None, 784)\n"
     ]
    }
   ],
   "source": [
    "inputs = keras.Input(shape=(28, 28, 1))\n",
    "layer = layers.Flatten(input_shape=(28, 28, 1))(inputs)\n",
    "print(layer.shape)"
   ]
  },
  {
   "cell_type": "code",
   "execution_count": 18,
   "id": "589dbe37",
   "metadata": {},
   "outputs": [
    {
     "name": "stdout",
     "output_type": "stream",
     "text": [
      "(None, 50176)\n"
     ]
    }
   ],
   "source": [
    "inputs = keras.Input(shape=(224, 224, 1))\n",
    "layer = layers.Flatten()(inputs)\n",
    "print(layer.shape)"
   ]
  },
  {
   "cell_type": "code",
   "execution_count": 19,
   "id": "c0df9580",
   "metadata": {},
   "outputs": [],
   "source": [
    "from tensorflow.keras import models, utils"
   ]
  },
  {
   "cell_type": "code",
   "execution_count": 20,
   "id": "a4229ba3",
   "metadata": {},
   "outputs": [
    {
     "name": "stdout",
     "output_type": "stream",
     "text": [
      "Model: \"sequential\"\n",
      "_________________________________________________________________\n",
      "Layer (type)                 Output Shape              Param #   \n",
      "=================================================================\n",
      "dense_3 (Dense)              (None, 28, 300)           8700      \n",
      "_________________________________________________________________\n",
      "dense_4 (Dense)              (None, 28, 100)           30100     \n",
      "_________________________________________________________________\n",
      "dense_5 (Dense)              (None, 28, 10)            1010      \n",
      "=================================================================\n",
      "Total params: 39,810\n",
      "Trainable params: 39,810\n",
      "Non-trainable params: 0\n",
      "_________________________________________________________________\n"
     ]
    }
   ],
   "source": [
    "model = models.Sequential()\n",
    "model.add(layers.Input(shape=(28, 28)))\n",
    "model.add(layers.Dense(300, activation='relu'))\n",
    "model.add(layers.Dense(100, activation='relu'))\n",
    "model.add(layers.Dense(10, activation='softmax'))\n",
    "model.summary()"
   ]
  },
  {
   "cell_type": "code",
   "execution_count": 21,
   "id": "3a9c5215",
   "metadata": {},
   "outputs": [
    {
     "data": {
      "image/png": "[encoded data removed]",
      "text/plain": [
       "<IPython.core.display.Image object>"
      ]
     },
     "execution_count": 21,
     "metadata": {},
     "output_type": "execute_result"
    }
   ],
   "source": [
    "utils.plot_model(model)"
   ]
  },
  {
   "cell_type": "code",
   "execution_count": 22,
   "id": "ff2fb3c6",
   "metadata": {},
   "outputs": [
    {
     "name": "stdout",
     "output_type": "stream",
     "text": [
      "Model: \"sequential_1\"\n",
      "_________________________________________________________________\n",
      "Layer (type)                 Output Shape              Param #   \n",
      "=================================================================\n",
      "Dense1 (Dense)               (None, 28, 300)           8700      \n",
      "_________________________________________________________________\n",
      "Dense2 (Dense)               (None, 28, 100)           30100     \n",
      "_________________________________________________________________\n",
      "Output (Dense)               (None, 28, 10)            1010      \n",
      "=================================================================\n",
      "Total params: 39,810\n",
      "Trainable params: 39,810\n",
      "Non-trainable params: 0\n",
      "_________________________________________________________________\n"
     ]
    }
   ],
   "source": [
    "model = models.Sequential([layers.Input(shape=(28, 28), name='Input'),\n",
    "                           layers.Dense(300, activation='relu', name='Dense1'),\n",
    "                           layers.Dense(100, activation='relu', name='Dense2'),\n",
    "                           layers.Dense(10, activation='softmax', name='Output')])\n",
    "model.summary()"
   ]
  },
  {
   "cell_type": "code",
   "execution_count": 23,
   "id": "8d538a9f",
   "metadata": {},
   "outputs": [
    {
     "data": {
      "image/png": "[encoded data removed]",
      "text/plain": [
       "<IPython.core.display.Image object>"
      ]
     },
     "execution_count": 23,
     "metadata": {},
     "output_type": "execute_result"
    }
   ],
   "source": [
    "utils.plot_model(model)"
   ]
  },
  {
   "cell_type": "code",
   "execution_count": 24,
   "id": "7a6470dc",
   "metadata": {},
   "outputs": [
    {
     "name": "stdout",
     "output_type": "stream",
     "text": [
      "Model: \"model\"\n",
      "_________________________________________________________________\n",
      "Layer (type)                 Output Shape              Param #   \n",
      "=================================================================\n",
      "input_7 (InputLayer)         [(None, 28, 28, 1)]       0         \n",
      "_________________________________________________________________\n",
      "flatten_2 (Flatten)          (None, 784)               0         \n",
      "_________________________________________________________________\n",
      "dense_6 (Dense)              (None, 300)               235500    \n",
      "_________________________________________________________________\n",
      "dense_7 (Dense)              (None, 100)               30100     \n",
      "_________________________________________________________________\n",
      "dense_8 (Dense)              (None, 10)                1010      \n",
      "=================================================================\n",
      "Total params: 266,610\n",
      "Trainable params: 266,610\n",
      "Non-trainable params: 0\n",
      "_________________________________________________________________\n"
     ]
    }
   ],
   "source": [
    "inputs = layers.Input(shape=(28, 28, 1))\n",
    "x = layers.Flatten(input_shape=(28, 28, 1))(inputs)\n",
    "x = layers.Dense(300, activation='relu')(x)\n",
    "x = layers.Dense(100, activation='relu')(x)\n",
    "x = layers.Dense(10, activation='softmax')(x)\n",
    "\n",
    "model = models.Model(inputs=inputs, outputs=x)\n",
    "model.summary()"
   ]
  },
  {
   "cell_type": "code",
   "execution_count": 25,
   "id": "ed0b8450",
   "metadata": {},
   "outputs": [
    {
     "data": {
      "image/png": "[encoded data removed]",
      "text/plain": [
       "<IPython.core.display.Image object>"
      ]
     },
     "execution_count": 25,
     "metadata": {},
     "output_type": "execute_result"
    }
   ],
   "source": [
    "utils.plot_model(model)"
   ]
  },
  {
   "cell_type": "code",
   "execution_count": 26,
   "id": "ba86f655",
   "metadata": {},
   "outputs": [
    {
     "name": "stdout",
     "output_type": "stream",
     "text": [
      "Model: \"model_1\"\n",
      "__________________________________________________________________________________________________\n",
      "Layer (type)                    Output Shape         Param #     Connected to                     \n",
      "==================================================================================================\n",
      "input_8 (InputLayer)            [(None, 28, 28)]     0                                            \n",
      "__________________________________________________________________________________________________\n",
      "dense_9 (Dense)                 (None, 28, 100)      2900        input_8[0][0]                    \n",
      "__________________________________________________________________________________________________\n",
      "dense_10 (Dense)                (None, 28, 30)       3030        dense_9[0][0]                    \n",
      "__________________________________________________________________________________________________\n",
      "concatenate (Concatenate)       (None, 28, 58)       0           input_8[0][0]                    \n",
      "                                                                 dense_10[0][0]                   \n",
      "__________________________________________________________________________________________________\n",
      "dense_11 (Dense)                (None, 28, 1)        59          concatenate[0][0]                \n",
      "==================================================================================================\n",
      "Total params: 5,989\n",
      "Trainable params: 5,989\n",
      "Non-trainable params: 0\n",
      "__________________________________________________________________________________________________\n"
     ]
    }
   ],
   "source": [
    "inputs = keras.Input(shape=(28, 28))\n",
    "hidden1 = layers.Dense(100, activation='relu')(inputs)\n",
    "hidden2 = layers.Dense(30, activation='relu')(hidden1)\n",
    "concat = layers.Concatenate()([inputs, hidden2])\n",
    "output = layers.Dense(1)(concat)\n",
    "\n",
    "model = models.Model(inputs=[inputs], outputs=[output])\n",
    "model.summary()"
   ]
  },
  {
   "cell_type": "code",
   "execution_count": 27,
   "id": "2dd721bf",
   "metadata": {},
   "outputs": [
    {
     "data": {
      "image/png": "[encoded data removed]",
      "text/plain": [
       "<IPython.core.display.Image object>"
      ]
     },
     "execution_count": 27,
     "metadata": {},
     "output_type": "execute_result"
    }
   ],
   "source": [
    "utils.plot_model(model)"
   ]
  },
  {
   "cell_type": "code",
   "execution_count": 28,
   "id": "e952ca48",
   "metadata": {},
   "outputs": [
    {
     "name": "stdout",
     "output_type": "stream",
     "text": [
      "Model: \"model_2\"\n",
      "__________________________________________________________________________________________________\n",
      "Layer (type)                    Output Shape         Param #     Connected to                     \n",
      "==================================================================================================\n",
      "Input_2 (InputLayer)            [(None, 10, 28)]     0                                            \n",
      "__________________________________________________________________________________________________\n",
      "dense_12 (Dense)                (None, 10, 100)      2900        Input_2[0][0]                    \n",
      "__________________________________________________________________________________________________\n",
      "Input_1 (InputLayer)            [(None, 10, 10)]     0                                            \n",
      "__________________________________________________________________________________________________\n",
      "dense_13 (Dense)                (None, 10, 10)       1010        dense_12[0][0]                   \n",
      "__________________________________________________________________________________________________\n",
      "concatenate_1 (Concatenate)     (None, 10, 20)       0           Input_1[0][0]                    \n",
      "                                                                 dense_13[0][0]                   \n",
      "__________________________________________________________________________________________________\n",
      "output (Dense)                  (None, 10, 1)        21          concatenate_1[0][0]              \n",
      "==================================================================================================\n",
      "Total params: 3,931\n",
      "Trainable params: 3,931\n",
      "Non-trainable params: 0\n",
      "__________________________________________________________________________________________________\n"
     ]
    }
   ],
   "source": [
    "input_1 = keras.Input(shape=(10, 10), name='Input_1')\n",
    "input_2 = keras.Input(shape=(10, 28), name='Input_2')\n",
    "\n",
    "hidden1 = layers.Dense(100, activation='relu')(input_2)\n",
    "hidden2 = layers.Dense(10, activation='relu')(hidden1)\n",
    "concat = layers.Concatenate()([input_1, hidden2])\n",
    "output = layers.Dense(1, activation='sigmoid', name='output')(concat)\n",
    "\n",
    "model = models.Model(inputs=[input_1, input_2], outputs=[output])\n",
    "model.summary()"
   ]
  },
  {
   "cell_type": "code",
   "execution_count": 29,
   "id": "59b46279",
   "metadata": {},
   "outputs": [
    {
     "data": {
      "image/png": "[encoded data removed]",
      "text/plain": [
       "<IPython.core.display.Image object>"
      ]
     },
     "execution_count": 29,
     "metadata": {},
     "output_type": "execute_result"
    }
   ],
   "source": [
    "utils.plot_model(model)"
   ]
  },
  {
   "cell_type": "code",
   "execution_count": 30,
   "id": "abd5eea5",
   "metadata": {},
   "outputs": [
    {
     "name": "stdout",
     "output_type": "stream",
     "text": [
      "Model: \"model_3\"\n",
      "__________________________________________________________________________________________________\n",
      "Layer (type)                    Output Shape         Param #     Connected to                     \n",
      "==================================================================================================\n",
      "input_ (InputLayer)             [(None, 10, 10)]     0                                            \n",
      "__________________________________________________________________________________________________\n",
      "dense_14 (Dense)                (None, 10, 100)      1100        input_[0][0]                     \n",
      "__________________________________________________________________________________________________\n",
      "dense_15 (Dense)                (None, 10, 10)       1010        dense_14[0][0]                   \n",
      "__________________________________________________________________________________________________\n",
      "main_output (Dense)             (None, 10, 1)        11          dense_15[0][0]                   \n",
      "__________________________________________________________________________________________________\n",
      "sum_output (Dense)              (None, 10, 1)        11          dense_15[0][0]                   \n",
      "==================================================================================================\n",
      "Total params: 2,132\n",
      "Trainable params: 2,132\n",
      "Non-trainable params: 0\n",
      "__________________________________________________________________________________________________\n"
     ]
    }
   ],
   "source": [
    "input_ = keras.Input(shape=(10, 10), name='input_')\n",
    "hidden1 = layers.Dense(100, activation='relu')(input_)\n",
    "hidden2 = layers.Dense(10, activation='relu')(hidden1)\n",
    "output = layers.Dense(1, activation='sigmoid', name='main_output')(hidden2)\n",
    "sub_out = layers.Dense(1, name='sum_output')(hidden2)\n",
    "\n",
    "model = models.Model(inputs=[input_], outputs=[output, sub_out])\n",
    "model.summary()"
   ]
  },
  {
   "cell_type": "code",
   "execution_count": 31,
   "id": "f101be06",
   "metadata": {},
   "outputs": [
    {
     "data": {
      "image/png": "[encoded data removed]",
      "text/plain": [
       "<IPython.core.display.Image object>"
      ]
     },
     "execution_count": 31,
     "metadata": {},
     "output_type": "execute_result"
    }
   ],
   "source": [
    "utils.plot_model(model)"
   ]
  },
  {
   "cell_type": "code",
   "execution_count": 32,
   "id": "bfe49911",
   "metadata": {},
   "outputs": [
    {
     "name": "stdout",
     "output_type": "stream",
     "text": [
      "Model: \"model_4\"\n",
      "__________________________________________________________________________________________________\n",
      "Layer (type)                    Output Shape         Param #     Connected to                     \n",
      "==================================================================================================\n",
      "input_2 (InputLayer)            [(None, 10, 28)]     0                                            \n",
      "__________________________________________________________________________________________________\n",
      "dense_16 (Dense)                (None, 10, 100)      2900        input_2[0][0]                    \n",
      "__________________________________________________________________________________________________\n",
      "input_1 (InputLayer)            [(None, 10, 10)]     0                                            \n",
      "__________________________________________________________________________________________________\n",
      "dense_17 (Dense)                (None, 10, 10)       1010        dense_16[0][0]                   \n",
      "__________________________________________________________________________________________________\n",
      "concatenate_2 (Concatenate)     (None, 10, 20)       0           input_1[0][0]                    \n",
      "                                                                 dense_17[0][0]                   \n",
      "__________________________________________________________________________________________________\n",
      "main_output (Dense)             (None, 10, 1)        21          concatenate_2[0][0]              \n",
      "__________________________________________________________________________________________________\n",
      "sum_output (Dense)              (None, 10, 1)        11          dense_17[0][0]                   \n",
      "==================================================================================================\n",
      "Total params: 3,942\n",
      "Trainable params: 3,942\n",
      "Non-trainable params: 0\n",
      "__________________________________________________________________________________________________\n"
     ]
    }
   ],
   "source": [
    "input_1 = keras.Input(shape=(10, 10), name='input_1')\n",
    "input_2 = keras.Input(shape=(10, 28), name='input_2')\n",
    "hidden1 = layers.Dense(100, activation='relu')(input_2)\n",
    "hidden2 = layers.Dense(10, activation='relu')(hidden1)\n",
    "concat = layers.Concatenate()([input_1, hidden2])\n",
    "output = layers.Dense(1, activation='sigmoid', name='main_output')(concat)\n",
    "sub_out = layers.Dense(1, name='sum_output')(hidden2)\n",
    "\n",
    "model = models.Model(inputs=[input_1, input_2], outputs=[output, sub_out])\n",
    "model.summary()"
   ]
  },
  {
   "cell_type": "code",
   "execution_count": 33,
   "id": "dc4bf573",
   "metadata": {},
   "outputs": [
    {
     "data": {
      "image/png": "[encoded data removed]",
      "text/plain": [
       "<IPython.core.display.Image object>"
      ]
     },
     "execution_count": 33,
     "metadata": {},
     "output_type": "execute_result"
    }
   ],
   "source": [
    "utils.plot_model(model)"
   ]
  },
  {
   "cell_type": "code",
   "execution_count": 34,
   "id": "e2ad20e5",
   "metadata": {},
   "outputs": [],
   "source": [
    "# Subclassing API의 예시\n",
    "class MyModel(models.Model):\n",
    "  def __init__(self, units=30, activation='relu', **kwargs):\n",
    "    super(MyModel, self).__init__(**kwargs)\n",
    "    self.dense_layer1 = layers.Dense(300, activation=activation)\n",
    "    self.dense_layer2 = layers.Dense(100, activation=activation)\n",
    "    self.dense_layer3 = layers.Dense(units, activation=activation)\n",
    "    self.output_layer = layers.Dense(10, activation='softmax')\n",
    "\n",
    "  def call(self, inputs):\n",
    "    x = self.dense_layer1(inputs)\n",
    "    x = self.dense_layer2(x)\n",
    "    x = self.dense_layer3(x)\n",
    "    x = self.output_layer(x)\n",
    "    return x"
   ]
  },
  {
   "cell_type": "code",
   "execution_count": 35,
   "id": "0c98c13c",
   "metadata": {},
   "outputs": [
    {
     "name": "stdout",
     "output_type": "stream",
     "text": [
      "Model: \"sequential_2\"\n",
      "_________________________________________________________________\n",
      "Layer (type)                 Output Shape              Param #   \n",
      "=================================================================\n",
      "flatten_3 (Flatten)          (None, 30000)             0         \n",
      "_________________________________________________________________\n",
      "dense_18 (Dense)             (None, 400)               12000400  \n",
      "_________________________________________________________________\n",
      "dense_19 (Dense)             (None, 200)               80200     \n",
      "_________________________________________________________________\n",
      "dense_20 (Dense)             (None, 100)               20100     \n",
      "=================================================================\n",
      "Total params: 12,100,700\n",
      "Trainable params: 12,100,700\n",
      "Non-trainable params: 0\n",
      "_________________________________________________________________\n"
     ]
    }
   ],
   "source": [
    "model = models.Sequential()\n",
    "\n",
    "# (100, 100, 3) 형태의 데이터를 받는 Input 레이어를 쌓으세요.\n",
    "model.add(layers.Input(shape=(100, 100, 3)))\n",
    "\n",
    "# Flatten 레이어를 쌓으세요.\n",
    "model.add(layers.Flatten(input_shape=(100, 100, 3)))\n",
    "\n",
    "# Unit의 수는 400, 활성화함수는 ReLU를 사용하는 Dense 레이어를 쌓으세요.\n",
    "model.add(layers.Dense(400, activation='relu'))\n",
    "\n",
    "# Unit의 수는 200, 활성화함수는 ReLU를 사용하는 Dense 레이어를 쌓으세요.\n",
    "model.add(layers.Dense(200, activation='relu'))\n",
    "\n",
    "# Unit의 수는 100, 활성화함수는 Softmax를 사용하는 Dense 레이어를 쌓으세요.\n",
    "model.add(layers.Dense(100, activation='softmax'))\n",
    "\n",
    "model.summary()"
   ]
  },
  {
   "cell_type": "code",
   "execution_count": 36,
   "id": "d8191e31",
   "metadata": {},
   "outputs": [
    {
     "name": "stdout",
     "output_type": "stream",
     "text": [
      "Model: \"model_5\"\n",
      "_________________________________________________________________\n",
      "Layer (type)                 Output Shape              Param #   \n",
      "=================================================================\n",
      "input_10 (InputLayer)        [(None, 100, 100, 3)]     0         \n",
      "_________________________________________________________________\n",
      "flatten_4 (Flatten)          (None, 30000)             0         \n",
      "_________________________________________________________________\n",
      "dense_21 (Dense)             (None, 400)               12000400  \n",
      "_________________________________________________________________\n",
      "dense_22 (Dense)             (None, 200)               80200     \n",
      "_________________________________________________________________\n",
      "dense_23 (Dense)             (None, 100)               20100     \n",
      "=================================================================\n",
      "Total params: 12,100,700\n",
      "Trainable params: 12,100,700\n",
      "Non-trainable params: 0\n",
      "_________________________________________________________________\n"
     ]
    }
   ],
   "source": [
    "# (100, 100, 3) 형태의 데이터를 받는 Input 레이어를 쌓으세요\n",
    "inputs = layers.Input(shape=(100, 100, 3))\n",
    "\n",
    "# Flatten 레이어를 쌓으세요.\n",
    "x = layers.Flatten(input_shape=(100, 100, 3))(inputs)\n",
    "\n",
    "# Unit의 수는 400, 활성화함수는 ReLU를 사용하는 Dense 레이어를 쌓으세요.\n",
    "x = layers.Dense(400, activation='relu')(x)\n",
    "\n",
    "# Unit의 수는 200, 활성화함수는 ReLU를 사용하는 Dense 레이어를 쌓으세요.\n",
    "x = layers.Dense(200, activation='relu')(x)\n",
    "\n",
    "# Unit의 수는 100, 활성화함수는 Softmax를 사용하는 Dense 레이어를 쌓으세요.\n",
    "x = layers.Dense(100, activation='softmax')(x)\n",
    "\n",
    "model = models.Model(inputs = inputs, outputs = x)\n",
    "model.summary()"
   ]
  },
  {
   "cell_type": "code",
   "execution_count": 42,
   "id": "ccf2b0fd",
   "metadata": {},
   "outputs": [
    {
     "name": "stdout",
     "output_type": "stream",
     "text": [
      "Model: \"your_model\"\n",
      "_________________________________________________________________\n",
      "Layer (type)                 Output Shape              Param #   \n",
      "=================================================================\n",
      "flatten_5 (Flatten)          multiple                  0         \n",
      "_________________________________________________________________\n",
      "dense_24 (Dense)             multiple                  12000400  \n",
      "_________________________________________________________________\n",
      "dense_25 (Dense)             multiple                  80200     \n",
      "_________________________________________________________________\n",
      "dense_26 (Dense)             multiple                  20100     \n",
      "=================================================================\n",
      "Total params: 12,100,700\n",
      "Trainable params: 12,100,700\n",
      "Non-trainable params: 0\n",
      "_________________________________________________________________\n"
     ]
    }
   ],
   "source": [
    "class YourModel(models.Model):\n",
    "  def __init__(self, **kwargs):\n",
    "    super(YourModel, self).__init__(**kwargs)\n",
    "    # Flatten 레이어를 쌓으세요.\n",
    "    self.flat_layer = layers.Flatten()\n",
    "    # Unit의 수는 400, 활성화함수는 ReLU를 사용하는 Dense 레이어를 쌓으세요.\n",
    "    self.dense_layer1 = layers.Dense(400, activation='relu')\n",
    "    # Unit의 수는 200, 활성화함수는 ReLU를 사용하는 Dense 레이어를 쌓으세요.\n",
    "    self.dense_layer2 = layers.Dense(200, activation='relu')\n",
    "    # Unit의 수는 100, 활성화함수는 Softmax를 사용하는 Dense 레이어를 쌓으세요.\n",
    "    self.output_layer = layers.Dense(100, activation='softmax')\n",
    "\n",
    "  def call(self, inputs):\n",
    "    # Flatten 레이어를 통과한 뒤 Dense 레이어를 400 -> 200 -> 100 순으로 통과하도록 쌓으세요.\n",
    "    x = self.flat_layer(inputs)\n",
    "    x = self.dense_layer1(x)\n",
    "    x = self.dense_layer2(x)\n",
    "    x = self.output_layer(x)\n",
    "    return x\n",
    "\n",
    "# (100, 100, 3) 형태를 가진 임의의 텐서를 생성해줍니다.\n",
    "data = tf.random.normal([100, 100, 3])\n",
    "# 데이터는 일반적으로 batch 단위로 들어가기 때문에 batch 차원을 추가해주겠습니다.\n",
    "data = tf.reshape(data, (-1, 100, 100, 3))\n",
    "model = YourModel()\n",
    "model(data)\n",
    "\n",
    "model.summary()"
   ]
  },
  {
   "cell_type": "code",
   "execution_count": 50,
   "id": "c997f744",
   "metadata": {},
   "outputs": [
    {
     "name": "stdout",
     "output_type": "stream",
     "text": [
      "Model: \"model_9\"\n",
      "__________________________________________________________________________________________________\n",
      "Layer (type)                    Output Shape         Param #     Connected to                     \n",
      "==================================================================================================\n",
      "Input_1 (InputLayer)            [(None, 40)]         0                                            \n",
      "__________________________________________________________________________________________________\n",
      "Input_2 (InputLayer)            [(None, 10)]         0                                            \n",
      "__________________________________________________________________________________________________\n",
      "dense_47 (Dense)                (None, 100)          4100        Input_1[0][0]                    \n",
      "__________________________________________________________________________________________________\n",
      "dense_48 (Dense)                (None, 100)          1100        Input_2[0][0]                    \n",
      "__________________________________________________________________________________________________\n",
      "concatenate_7 (Concatenate)     (None, 200)          0           dense_47[0][0]                   \n",
      "                                                                 dense_48[0][0]                   \n",
      "__________________________________________________________________________________________________\n",
      "dense_49 (Dense)                (None, 40)           8040        concatenate_7[0][0]              \n",
      "__________________________________________________________________________________________________\n",
      "dense_50 (Dense)                (None, 1)            201         concatenate_7[0][0]              \n",
      "__________________________________________________________________________________________________\n",
      "dense_51 (Dense)                (None, 10)           410         dense_49[0][0]                   \n",
      "==================================================================================================\n",
      "Total params: 13,851\n",
      "Trainable params: 13,851\n",
      "Non-trainable params: 0\n",
      "__________________________________________________________________________________________________\n"
     ]
    }
   ],
   "source": [
    "# Functional API 방식 혹은 Subclassing API 방식으로 구현해주세요.\n",
    "# Functional API 방식\n",
    "\n",
    "input_1 = keras.Input(shape=(40), name='Input_1')\n",
    "input_2 = keras.Input(shape=(10), name='Input_2')\n",
    "\n",
    "hidden = layers.Dense(100, activation='relu')(input_1)\n",
    "hidden_1 = layers.Dense(100, activation='relu')(input_2)\n",
    "concat = layers.Concatenate()([hidden, hidden_1])\n",
    "hidden_3 = layers.Dense(40, activation='relu')(concat)\n",
    "hidden_2 = layers.Dense(1, activation='relu')(concat)\n",
    "\n",
    "hidden_4 = layers.Dense(10)(hidden_3)\n",
    "\n",
    "model = models.Model(inputs=[input_1, input_2], outputs=[hidden_2, hidden_4])\n",
    "\n",
    "model.summary()"
   ]
  },
  {
   "cell_type": "code",
   "execution_count": 51,
   "id": "579c59c7",
   "metadata": {},
   "outputs": [
    {
     "data": {
      "image/png": "[encoded data removed]",
      "text/plain": [
       "<IPython.core.display.Image object>"
      ]
     },
     "execution_count": 51,
     "metadata": {},
     "output_type": "execute_result"
    }
   ],
   "source": [
    "utils.plot_model(model)"
   ]
  },
  {
   "cell_type": "code",
   "execution_count": 70,
   "id": "af41e5ca",
   "metadata": {},
   "outputs": [
    {
     "name": "stdout",
     "output_type": "stream",
     "text": [
      "Model: \"my_model_11\"\n",
      "_________________________________________________________________\n",
      "Layer (type)                 Output Shape              Param #   \n",
      "=================================================================\n",
      "dense_92 (Dense)             multiple                  4100      \n",
      "_________________________________________________________________\n",
      "dense_93 (Dense)             multiple                  1100      \n",
      "_________________________________________________________________\n",
      "concatenate_19 (Concatenate) multiple                  0         \n",
      "_________________________________________________________________\n",
      "dense_94 (Dense)             multiple                  8040      \n",
      "_________________________________________________________________\n",
      "dense_95 (Dense)             multiple                  201       \n",
      "_________________________________________________________________\n",
      "dense_96 (Dense)             multiple                  410       \n",
      "=================================================================\n",
      "Total params: 13,851\n",
      "Trainable params: 13,851\n",
      "Non-trainable params: 0\n",
      "_________________________________________________________________\n"
     ]
    }
   ],
   "source": [
    "# Subclassing API\n",
    "\n",
    "class MyModel(models.Model):\n",
    "    def __init__(self, **kwargs):\n",
    "        super(MyModel, self).__init__(**kwargs)\n",
    "        self.dense_layer = layers.Dense(100, activation='relu')\n",
    "        self.dense_layer1 = layers.Dense(100, activation='relu')\n",
    "        self.concat = layers.Concatenate()\n",
    "        self.dense_layer3 = layers.Dense(40, activation='relu')\n",
    "        self.dense_layer2 = layers.Dense(1, activation='relu')\n",
    "        self.dense_layer4 = layers.Dense(10)\n",
    "        \n",
    "    def call(self, input_1, input_2):\n",
    "        x = self.dense_layer(input_1)\n",
    "        y = self.dense_layer1(input_2)\n",
    "        z = self.concat([x, y])\n",
    "        x = self.dense_layer3(z)\n",
    "        y = self.dense_layer2(z)\n",
    "        x = self.dense_layer4(x)\n",
    "        return x, y\n",
    "    \n",
    "data1 = tf.random.normal([40])\n",
    "data2 = tf.random.normal([10])\n",
    "\n",
    "data1 = tf.reshape(data1, (-1, 40))\n",
    "data2 = tf.reshape(data2, (-1, 10))\n",
    "\n",
    "model = MyModel()\n",
    "model(data1, data2)\n",
    "\n",
    "model.summary()"
   ]
  },
  {
   "cell_type": "code",
   "execution_count": null,
   "id": "5c4878ad",
   "metadata": {},
   "outputs": [],
   "source": []
  }
 ],
 "metadata": {
  "kernelspec": {
   "display_name": "Python 3 (ipykernel)",
   "language": "python",
   "name": "python3"
  },
  "language_info": {
   "codemirror_mode": {
    "name": "ipython",
    "version": 3
   },
   "file_extension": ".py",
   "mimetype": "text/x-python",
   "name": "python",
   "nbconvert_exporter": "python",
   "pygments_lexer": "ipython3",
   "version": "3.9.7"
  }
 },
 "nbformat": 4,
 "nbformat_minor": 5
}
