{
 "cells": [
  {
   "cell_type": "code",
   "execution_count": 1,
   "id": "c8134427",
   "metadata": {},
   "outputs": [],
   "source": [
    "import tensorflow as tf"
   ]
  },
  {
   "cell_type": "code",
   "execution_count": 2,
   "id": "8d580757",
   "metadata": {},
   "outputs": [
    {
     "name": "stdout",
     "output_type": "stream",
     "text": [
      "tf.Tensor(1, shape=(), dtype=int32)\n",
      "tf.Tensor(0, shape=(), dtype=int32)\n"
     ]
    }
   ],
   "source": [
    "t0 = tf.constant(1) \n",
    "print(t0)\n",
    "print(tf.rank(t0)) # 축의 개수를 반환합니다."
   ]
  },
  {
   "cell_type": "code",
   "execution_count": 3,
   "id": "c490eb55",
   "metadata": {},
   "outputs": [
    {
     "name": "stdout",
     "output_type": "stream",
     "text": [
      "tf.Tensor([1 2 3], shape=(3,), dtype=int32)\n",
      "tf.Tensor(1, shape=(), dtype=int32)\n"
     ]
    }
   ],
   "source": [
    "t1 = tf.constant([1, 2, 3]) \n",
    "print(t1)\n",
    "print(tf.rank(t1))"
   ]
  },
  {
   "cell_type": "code",
   "execution_count": 4,
   "id": "c292bbb9",
   "metadata": {},
   "outputs": [
    {
     "name": "stdout",
     "output_type": "stream",
     "text": [
      "tf.Tensor(\n",
      "[[1 2 3]\n",
      " [4 5 6]\n",
      " [7 8 9]], shape=(3, 3), dtype=int32)\n",
      "tf.Tensor(2, shape=(), dtype=int32)\n"
     ]
    }
   ],
   "source": [
    "# Q. 위 이미지와 같은 크기 (3, 3)의 2차원 텐서를 만들고, 차원을 반환해 주세요.\n",
    "t2 = tf.constant([[1, 2, 3], [4, 5, 6], [7, 8, 9]]) \n",
    "print(t2)\n",
    "print(tf.rank(t2))"
   ]
  },
  {
   "cell_type": "code",
   "execution_count": 5,
   "id": "531ba999",
   "metadata": {},
   "outputs": [
    {
     "name": "stdout",
     "output_type": "stream",
     "text": [
      "tf.Tensor(\n",
      "[[[1 2 3]\n",
      "  [4 5 6]\n",
      "  [7 8 9]]\n",
      "\n",
      " [[1 2 3]\n",
      "  [4 5 6]\n",
      "  [7 8 9]]\n",
      "\n",
      " [[1 2 3]\n",
      "  [4 5 6]\n",
      "  [7 8 9]]], shape=(3, 3, 3), dtype=int32)\n",
      "tf.Tensor(3, shape=(), dtype=int32)\n"
     ]
    }
   ],
   "source": [
    "# Q. 위 이미지와 같은 크기(3, 3, 3)의 3차원 텐서를 만들고, 차원을 반환해 주세요.\n",
    "t3 = tf.constant([[[1, 2, 3], [4, 5, 6], [7, 8, 9]], [[1, 2, 3], [4, 5, 6], [7, 8, 9]], [[1, 2, 3], [4, 5, 6], [7, 8, 9]]]) \n",
    "print(t3)\n",
    "print(tf.rank(t3))"
   ]
  },
  {
   "cell_type": "code",
   "execution_count": 6,
   "id": "b854efe9",
   "metadata": {},
   "outputs": [
    {
     "name": "stdout",
     "output_type": "stream",
     "text": [
      "tf.Tensor(2, shape=(), dtype=int32)\n"
     ]
    }
   ],
   "source": [
    "i = tf.constant(2)\n",
    "print(i)"
   ]
  },
  {
   "cell_type": "code",
   "execution_count": 7,
   "id": "61502349",
   "metadata": {},
   "outputs": [
    {
     "name": "stdout",
     "output_type": "stream",
     "text": [
      "tf.Tensor(2.0, shape=(), dtype=float32)\n"
     ]
    }
   ],
   "source": [
    "f = tf.constant(2.)\n",
    "print(f)"
   ]
  },
  {
   "cell_type": "code",
   "execution_count": 8,
   "id": "21c73be6",
   "metadata": {},
   "outputs": [
    {
     "name": "stdout",
     "output_type": "stream",
     "text": [
      "tf.Tensor(b'Suan', shape=(), dtype=string)\n"
     ]
    }
   ],
   "source": [
    "s = tf.constant('Suan')\n",
    "print(s)"
   ]
  },
  {
   "cell_type": "code",
   "execution_count": 9,
   "id": "c641537b",
   "metadata": {},
   "outputs": [
    {
     "name": "stdout",
     "output_type": "stream",
     "text": [
      "tf.Tensor(2.0, shape=(), dtype=float16)\n"
     ]
    }
   ],
   "source": [
    "f16 = tf.constant(2., dtype=tf.float16)\n",
    "print(f16)"
   ]
  },
  {
   "cell_type": "code",
   "execution_count": 11,
   "id": "bc73214a",
   "metadata": {},
   "outputs": [
    {
     "name": "stdout",
     "output_type": "stream",
     "text": [
      "tf.Tensor(1, shape=(), dtype=int8)\n"
     ]
    }
   ],
   "source": [
    "# Q. 8비트의 정수형을 지정하여 텐서를 생성해 보세요. \n",
    "i8 = tf.constant(1, dtype=tf.int8)\n",
    "print(i8)"
   ]
  },
  {
   "cell_type": "code",
   "execution_count": 12,
   "id": "5b33ac93",
   "metadata": {},
   "outputs": [
    {
     "name": "stdout",
     "output_type": "stream",
     "text": [
      "tf.Tensor(2.0, shape=(), dtype=float32)\n"
     ]
    }
   ],
   "source": [
    "f32 = tf.cast(f16, tf.float32)\n",
    "print(f32)"
   ]
  },
  {
   "cell_type": "code",
   "execution_count": 13,
   "id": "04e26b87",
   "metadata": {},
   "outputs": [
    {
     "name": "stdout",
     "output_type": "stream",
     "text": [
      "tf.Tensor(1, shape=(), dtype=int32)\n"
     ]
    }
   ],
   "source": [
    "#  Q. 8비트 정수형을 32비트 정수형으로 변환해 보세요. \n",
    "i32 = tf.cast(i8, tf.int32)\n",
    "print(i32)"
   ]
  },
  {
   "cell_type": "code",
   "execution_count": 14,
   "id": "daf4fdb7",
   "metadata": {},
   "outputs": [
    {
     "name": "stdout",
     "output_type": "stream",
     "text": [
      "tf.Tensor(\n",
      "[[1]\n",
      " [2]\n",
      " [3]], shape=(3, 1), dtype=int32)\n",
      "(3, 1)\n",
      "tf.Tensor([[1 2 3]], shape=(1, 3), dtype=int32)\n",
      "(1, 3)\n"
     ]
    }
   ],
   "source": [
    "x = tf.constant([[1], [2], [3]])\n",
    "print(x)\n",
    "print(x.shape)\n",
    "\n",
    "y = tf.reshape(x, [1, 3])\n",
    "print(y)\n",
    "print(y.shape)"
   ]
  },
  {
   "cell_type": "code",
   "execution_count": 15,
   "id": "ccec37bc",
   "metadata": {},
   "outputs": [
    {
     "name": "stdout",
     "output_type": "stream",
     "text": [
      "tf.Tensor([[1 2 3]], shape=(1, 3), dtype=int32)\n",
      "tf.Tensor(\n",
      "[[1]\n",
      " [2]\n",
      " [3]], shape=(3, 1), dtype=int32)\n",
      "(1, 3)\n"
     ]
    }
   ],
   "source": [
    "print(y)\n",
    "print(tf.transpose(y))\n",
    "print(y.shape)"
   ]
  },
  {
   "cell_type": "code",
   "execution_count": 16,
   "id": "1d4c788a",
   "metadata": {},
   "outputs": [
    {
     "name": "stdout",
     "output_type": "stream",
     "text": [
      "tf.Tensor(\n",
      "[[1]\n",
      " [2]\n",
      " [3]], shape=(3, 1), dtype=int32)\n",
      "tf.Tensor([1 2 3], shape=(3,), dtype=int32)\n"
     ]
    }
   ],
   "source": [
    "print(x)\n",
    "print(tf.squeeze(x))"
   ]
  },
  {
   "cell_type": "code",
   "execution_count": 17,
   "id": "7d497a37",
   "metadata": {},
   "outputs": [
    {
     "name": "stdout",
     "output_type": "stream",
     "text": [
      "tf.Tensor([[1 2 3]], shape=(1, 3), dtype=int32)\n",
      "tf.Tensor([[[1 2 3]]], shape=(1, 1, 3), dtype=int32)\n",
      "tf.Tensor([[[1 2 3]]], shape=(1, 1, 3), dtype=int32)\n",
      "tf.Tensor(\n",
      "[[[1]\n",
      "  [2]\n",
      "  [3]]], shape=(1, 3, 1), dtype=int32)\n"
     ]
    }
   ],
   "source": [
    "print(y)\n",
    "print(tf.expand_dims(y, axis=0))\n",
    "print(tf.expand_dims(y, axis=1))\n",
    "print(tf.expand_dims(y, axis=2))"
   ]
  },
  {
   "cell_type": "code",
   "execution_count": 18,
   "id": "919385de",
   "metadata": {},
   "outputs": [
    {
     "name": "stdout",
     "output_type": "stream",
     "text": [
      "tf.Tensor(\n",
      "[[1]\n",
      " [2]\n",
      " [3]], shape=(3, 1), dtype=int32)\n",
      "[<tf.Tensor: shape=(1, 1), dtype=int32, numpy=array([[1]], dtype=int32)>, <tf.Tensor: shape=(1, 1), dtype=int32, numpy=array([[2]], dtype=int32)>, <tf.Tensor: shape=(1, 1), dtype=int32, numpy=array([[3]], dtype=int32)>]\n"
     ]
    }
   ],
   "source": [
    "print(x)\n",
    "print(tf.split(x, 3))"
   ]
  },
  {
   "cell_type": "code",
   "execution_count": 19,
   "id": "2b2b0e32",
   "metadata": {},
   "outputs": [
    {
     "name": "stdout",
     "output_type": "stream",
     "text": [
      "tf.Tensor(\n",
      "[[1]\n",
      " [2]\n",
      " [3]], shape=(3, 1), dtype=int32)\n",
      "tf.Tensor(\n",
      "[[1]\n",
      " [2]\n",
      " [3]\n",
      " [1]\n",
      " [2]\n",
      " [3]], shape=(6, 1), dtype=int32)\n",
      "tf.Tensor(\n",
      "[[1 1]\n",
      " [2 2]\n",
      " [3 3]], shape=(3, 2), dtype=int32)\n"
     ]
    }
   ],
   "source": [
    "print(x)\n",
    "print(tf.concat([x, x], axis=0))\n",
    "print(tf.concat([x, x], axis=1))"
   ]
  },
  {
   "cell_type": "code",
   "execution_count": 20,
   "id": "75395d2a",
   "metadata": {},
   "outputs": [
    {
     "name": "stdout",
     "output_type": "stream",
     "text": [
      "tf.Tensor(4, shape=(), dtype=int32)\n",
      "tf.Tensor(0, shape=(), dtype=int32)\n",
      "tf.Tensor(4, shape=(), dtype=int32)\n",
      "tf.Tensor(0, shape=(), dtype=int32)\n"
     ]
    }
   ],
   "source": [
    "print(tf.constant(2) + tf.constant(2))\n",
    "print(tf.constant(2) - tf.constant(2))\n",
    "print(tf.add(tf.constant(2), tf.constant(2)))\n",
    "print(tf.subtract(tf.constant(2), tf.constant(2)))"
   ]
  },
  {
   "cell_type": "code",
   "execution_count": 21,
   "id": "bf769bcd",
   "metadata": {},
   "outputs": [
    {
     "name": "stdout",
     "output_type": "stream",
     "text": [
      "tf.Tensor(4, shape=(), dtype=int32)\n",
      "tf.Tensor(1.0, shape=(), dtype=float64)\n",
      "tf.Tensor(4, shape=(), dtype=int32)\n",
      "tf.Tensor(1.0, shape=(), dtype=float64)\n"
     ]
    }
   ],
   "source": [
    "print(tf.constant(2) * tf.constant(2))\n",
    "print(tf.constant(2) / tf.constant(2))\n",
    "print(tf.multiply(tf.constant(2), tf.constant(2)))\n",
    "print(tf.divide(tf.constant(2), tf.constant(2)))"
   ]
  },
  {
   "cell_type": "code",
   "execution_count": 22,
   "id": "225a462b",
   "metadata": {},
   "outputs": [],
   "source": [
    "# 텐서 연산에서 주의할 점은 서로 다른 타입을 가지는 텐서는 연산이 되지 않고, 에러가 발생한다는 점입니다.\n",
    "#print(tf.constant(2) + tf.constant(2.2))"
   ]
  },
  {
   "cell_type": "code",
   "execution_count": 23,
   "id": "39183547",
   "metadata": {},
   "outputs": [
    {
     "name": "stdout",
     "output_type": "stream",
     "text": [
      "tf.Tensor(4.2, shape=(), dtype=float32)\n"
     ]
    }
   ],
   "source": [
    "print(tf.cast(tf.constant(2), tf.float32) + tf.constant(2.2))"
   ]
  },
  {
   "cell_type": "code",
   "execution_count": 25,
   "id": "c7cf7a10",
   "metadata": {},
   "outputs": [],
   "source": [
    "# Q. 1차원 텐서 2개를 생성해 보세요. \n",
    "x = tf.constant([1,2])\n",
    "y = tf.constant([3,4])"
   ]
  },
  {
   "cell_type": "code",
   "execution_count": 28,
   "id": "954e14e6",
   "metadata": {},
   "outputs": [
    {
     "name": "stdout",
     "output_type": "stream",
     "text": [
      "tf.Tensor([4 6], shape=(2,), dtype=int32)\n",
      "tf.Tensor([2 2], shape=(2,), dtype=int32)\n",
      "tf.Tensor([3 8], shape=(2,), dtype=int32)\n",
      "tf.Tensor([3. 2.], shape=(2,), dtype=float64)\n"
     ]
    }
   ],
   "source": [
    "# Q. 사칙연산(더하기, 빼기, 곱하기, 나누기)을 해보세요.\n",
    "print(x+y)\n",
    "print(y-x)\n",
    "print(x*y)\n",
    "print(y/x)"
   ]
  },
  {
   "cell_type": "code",
   "execution_count": 29,
   "id": "079fb3ec",
   "metadata": {},
   "outputs": [],
   "source": [
    "# Q. 크기 (2,2)인 2차원 텐서 2개를 생성해 보세요. \n",
    "a = tf.constant([[1,2],[3,4]])\n",
    "b = tf.constant([[5,6],[7,8]])"
   ]
  },
  {
   "cell_type": "code",
   "execution_count": 30,
   "id": "776e274d",
   "metadata": {},
   "outputs": [
    {
     "name": "stdout",
     "output_type": "stream",
     "text": [
      "tf.Tensor(\n",
      "[[ 6  8]\n",
      " [10 12]], shape=(2, 2), dtype=int32)\n",
      "tf.Tensor(\n",
      "[[4 4]\n",
      " [4 4]], shape=(2, 2), dtype=int32)\n",
      "tf.Tensor(\n",
      "[[ 5 12]\n",
      " [21 32]], shape=(2, 2), dtype=int32)\n",
      "tf.Tensor(\n",
      "[[19 22]\n",
      " [43 50]], shape=(2, 2), dtype=int32)\n",
      "tf.Tensor(\n",
      "[[5.         3.        ]\n",
      " [2.33333333 2.        ]], shape=(2, 2), dtype=float64)\n"
     ]
    }
   ],
   "source": [
    "print(a + b) # element-wise addition\n",
    "print(b - a) # element-wise subtraction\n",
    "print(a * b) # element-wise multiplication\n",
    "print(a @ b) # matrix multiplication\n",
    "print(b / a) # element-wise division"
   ]
  },
  {
   "cell_type": "code",
   "execution_count": 31,
   "id": "3aa663b9",
   "metadata": {},
   "outputs": [
    {
     "name": "stdout",
     "output_type": "stream",
     "text": [
      "tf.Tensor(\n",
      "[[ 6  8]\n",
      " [10 12]], shape=(2, 2), dtype=int32)\n",
      "tf.Tensor(\n",
      "[[-4 -4]\n",
      " [-4 -4]], shape=(2, 2), dtype=int32)\n",
      "tf.Tensor(\n",
      "[[ 5 12]\n",
      " [21 32]], shape=(2, 2), dtype=int32)\n",
      "tf.Tensor(\n",
      "[[19 22]\n",
      " [43 50]], shape=(2, 2), dtype=int32)\n",
      "tf.Tensor(\n",
      "[[0.2        0.33333333]\n",
      " [0.42857143 0.5       ]], shape=(2, 2), dtype=float64)\n"
     ]
    }
   ],
   "source": [
    "print(tf.add(a, b))\n",
    "print(tf.subtract(a, b))\n",
    "print(tf.multiply(a, b))\n",
    "print(tf.matmul(a, b))\n",
    "print(tf.divide(a, b))"
   ]
  },
  {
   "cell_type": "code",
   "execution_count": 32,
   "id": "4e8bd72d",
   "metadata": {},
   "outputs": [
    {
     "name": "stdout",
     "output_type": "stream",
     "text": [
      "tf.Tensor(10.0, shape=(), dtype=float32)\n",
      "tf.Tensor([1 1 1], shape=(3,), dtype=int64)\n",
      "tf.Tensor(\n",
      "[[0.09003057 0.24472848 0.66524094]\n",
      " [0.66524094 0.24472848 0.09003057]], shape=(2, 3), dtype=float32)\n"
     ]
    }
   ],
   "source": [
    "c = tf.constant([[4.0, 5.0, 6.0], \n",
    "                 [10.0, 9.0, 8.0]])\n",
    "\n",
    "print(tf.reduce_max(c))\n",
    "print(tf.argmax(c))\n",
    "print(tf.nn.softmax(c))"
   ]
  },
  {
   "cell_type": "code",
   "execution_count": 36,
   "id": "07d73353",
   "metadata": {},
   "outputs": [
    {
     "name": "stdout",
     "output_type": "stream",
     "text": [
      "tf.Tensor(\n",
      "[[[  7.  10.]\n",
      "  [ 15.  22.]]\n",
      "\n",
      " [[ 67.  78.]\n",
      "  [ 91. 106.]]], shape=(2, 2, 2), dtype=float32)\n"
     ]
    }
   ],
   "source": [
    "a = tf.constant([1, 2, 3, 4, 5, 6, 7, 8]) \n",
    "b = tf.constant([[1., 2., 3., 4., 5., 6., 7., 8.]])\n",
    "\n",
    "# Q. 위에 있는 2개의 텐서를 행렬곱연산이 가능하도록 3차원 텐서로 변환해주세요.\n",
    "a = tf.reshape(a, [2,2,2])\n",
    "b = tf.reshape(b, [2,2,2])\n",
    "a = tf.cast(a, tf.float32)\n",
    "\n",
    "print(a@b)"
   ]
  },
  {
   "cell_type": "code",
   "execution_count": null,
   "id": "5827ec60",
   "metadata": {},
   "outputs": [],
   "source": []
  }
 ],
 "metadata": {
  "kernelspec": {
   "display_name": "Python 3 (ipykernel)",
   "language": "python",
   "name": "python3"
  },
  "language_info": {
   "codemirror_mode": {
    "name": "ipython",
    "version": 3
   },
   "file_extension": ".py",
   "mimetype": "text/x-python",
   "name": "python",
   "nbconvert_exporter": "python",
   "pygments_lexer": "ipython3",
   "version": "3.9.7"
  }
 },
 "nbformat": 4,
 "nbformat_minor": 5
}
