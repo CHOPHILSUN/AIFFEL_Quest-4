{
 "cells": [
  {
   "cell_type": "code",
   "execution_count": 1,
   "id": "c83e8e9f",
   "metadata": {},
   "outputs": [
    {
     "data": {
      "image/png": "[encoded data removed]",
      "text/plain": [
       "<Figure size 432x288 with 1 Axes>"
      ]
     },
     "metadata": {
      "needs_background": "light"
     },
     "output_type": "display_data"
    }
   ],
   "source": [
    "import numpy as np\n",
    "import matplotlib.pyplot as plt\n",
    "from sklearn.datasets import make_regression\n",
    "\n",
    "X, y = make_regression(n_samples=200, n_features=1, \n",
    "                       bias=5.0, noise=5.0, random_state=123)\n",
    "y = np.expand_dims(y, axis=1)\n",
    "\n",
    "plt.scatter(X, y)\n",
    "plt.show()"
   ]
  },
  {
   "cell_type": "code",
   "execution_count": 2,
   "id": "74f7dc6d",
   "metadata": {},
   "outputs": [
    {
     "name": "stdout",
     "output_type": "stream",
     "text": [
      "(160, 1) (160, 1)\n",
      "(40, 1) (40, 1)\n"
     ]
    }
   ],
   "source": [
    "from sklearn.model_selection import train_test_split\n",
    "\n",
    "x_train, x_test, y_train, y_test = train_test_split(X, y, \n",
    "                                                    test_size=0.2, \n",
    "                                                    shuffle=True,\n",
    "                                                    random_state=123)\n",
    "\n",
    "print(x_train.shape, y_train.shape)\n",
    "print(x_test.shape, y_test.shape)"
   ]
  },
  {
   "cell_type": "code",
   "execution_count": 3,
   "id": "03bdd598",
   "metadata": {},
   "outputs": [],
   "source": [
    "import tensorflow as tf\n",
    "from tensorflow import keras\n",
    "from tensorflow.keras import models, layers, optimizers, utils"
   ]
  },
  {
   "cell_type": "code",
   "execution_count": 4,
   "id": "ce9b7c32",
   "metadata": {},
   "outputs": [
    {
     "name": "stdout",
     "output_type": "stream",
     "text": [
      "Model: \"sequential\"\n",
      "_________________________________________________________________\n",
      "Layer (type)                 Output Shape              Param #   \n",
      "=================================================================\n",
      "dense (Dense)                (None, 1)                 2         \n",
      "=================================================================\n",
      "Total params: 2\n",
      "Trainable params: 2\n",
      "Non-trainable params: 0\n",
      "_________________________________________________________________\n"
     ]
    }
   ],
   "source": [
    "model = keras.Sequential()\n",
    "model.add(layers.Dense(1, activation='linear', input_shape=(1,)))\n",
    "model.summary()"
   ]
  },
  {
   "cell_type": "code",
   "execution_count": 5,
   "id": "43d58c73",
   "metadata": {},
   "outputs": [
    {
     "data": {
      "image/png": "[encoded data removed]",
      "text/plain": [
       "<IPython.core.display.Image object>"
      ]
     },
     "execution_count": 5,
     "metadata": {},
     "output_type": "execute_result"
    }
   ],
   "source": [
    "utils.plot_model(model)"
   ]
  },
  {
   "cell_type": "code",
   "execution_count": 6,
   "id": "9e085a12",
   "metadata": {},
   "outputs": [
    {
     "name": "stdout",
     "output_type": "stream",
     "text": [
      "Epoch 1/40\n",
      "5/5 [==============================] - 1s 3ms/step - loss: 648.7851 - mae: 20.4189 - mse: 648.7851\n",
      "Epoch 2/40\n",
      "5/5 [==============================] - 0s 2ms/step - loss: 520.8685 - mae: 18.2787 - mse: 520.8685\n",
      "Epoch 3/40\n",
      "5/5 [==============================] - 0s 2ms/step - loss: 419.1976 - mae: 16.4343 - mse: 419.1976\n",
      "Epoch 4/40\n",
      "5/5 [==============================] - 0s 2ms/step - loss: 338.1555 - mae: 14.7725 - mse: 338.1555\n",
      "Epoch 5/40\n",
      "5/5 [==============================] - 0s 2ms/step - loss: 273.4453 - mae: 13.2652 - mse: 273.4453\n",
      "Epoch 6/40\n",
      "5/5 [==============================] - 0s 2ms/step - loss: 222.0671 - mae: 11.9654 - mse: 222.0671\n",
      "Epoch 7/40\n",
      "5/5 [==============================] - 0s 2ms/step - loss: 181.1330 - mae: 10.7991 - mse: 181.1330\n",
      "Epoch 8/40\n",
      "5/5 [==============================] - 0s 2ms/step - loss: 148.5867 - mae: 9.7713 - mse: 148.5867\n",
      "Epoch 9/40\n",
      "5/5 [==============================] - 0s 2ms/step - loss: 122.5955 - mae: 8.9017 - mse: 122.5955\n",
      "Epoch 10/40\n",
      "5/5 [==============================] - 0s 2ms/step - loss: 102.0967 - mae: 8.0743 - mse: 102.0967\n",
      "Epoch 11/40\n",
      "5/5 [==============================] - 0s 2ms/step - loss: 85.2833 - mae: 7.4153 - mse: 85.2833\n",
      "Epoch 12/40\n",
      "5/5 [==============================] - 0s 2ms/step - loss: 72.1177 - mae: 6.8093 - mse: 72.1177\n",
      "Epoch 13/40\n",
      "5/5 [==============================] - 0s 2ms/step - loss: 61.6496 - mae: 6.2887 - mse: 61.6496\n",
      "Epoch 14/40\n",
      "5/5 [==============================] - 0s 9ms/step - loss: 53.2735 - mae: 5.8579 - mse: 53.2735\n",
      "Epoch 15/40\n",
      "5/5 [==============================] - 0s 3ms/step - loss: 46.6915 - mae: 5.4504 - mse: 46.6915\n",
      "Epoch 16/40\n",
      "5/5 [==============================] - 0s 3ms/step - loss: 41.4299 - mae: 5.1149 - mse: 41.4299\n",
      "Epoch 17/40\n",
      "5/5 [==============================] - 0s 4ms/step - loss: 37.1225 - mae: 4.8233 - mse: 37.1225\n",
      "Epoch 18/40\n",
      "5/5 [==============================] - 0s 3ms/step - loss: 33.8170 - mae: 4.5859 - mse: 33.8170\n",
      "Epoch 19/40\n",
      "5/5 [==============================] - 0s 3ms/step - loss: 31.1122 - mae: 4.3916 - mse: 31.1122\n",
      "Epoch 20/40\n",
      "5/5 [==============================] - 0s 4ms/step - loss: 28.9857 - mae: 4.2236 - mse: 28.9857\n",
      "Epoch 21/40\n",
      "5/5 [==============================] - 0s 2ms/step - loss: 27.3193 - mae: 4.0909 - mse: 27.3193\n",
      "Epoch 22/40\n",
      "5/5 [==============================] - 0s 2ms/step - loss: 25.9351 - mae: 3.9866 - mse: 25.9351\n",
      "Epoch 23/40\n",
      "5/5 [==============================] - 0s 4ms/step - loss: 24.8556 - mae: 3.9050 - mse: 24.8556\n",
      "Epoch 24/40\n",
      "5/5 [==============================] - 0s 2ms/step - loss: 23.9841 - mae: 3.8463 - mse: 23.9841\n",
      "Epoch 25/40\n",
      "5/5 [==============================] - 0s 9ms/step - loss: 23.3371 - mae: 3.8026 - mse: 23.3371\n",
      "Epoch 26/40\n",
      "5/5 [==============================] - 0s 2ms/step - loss: 22.7620 - mae: 3.7651 - mse: 22.7620\n",
      "Epoch 27/40\n",
      "5/5 [==============================] - 0s 3ms/step - loss: 22.3204 - mae: 3.7302 - mse: 22.3204\n",
      "Epoch 28/40\n",
      "5/5 [==============================] - 0s 5ms/step - loss: 22.0223 - mae: 3.7097 - mse: 22.0223\n",
      "Epoch 29/40\n",
      "5/5 [==============================] - 0s 3ms/step - loss: 21.7350 - mae: 3.6902 - mse: 21.7350\n",
      "Epoch 30/40\n",
      "5/5 [==============================] - 0s 3ms/step - loss: 21.4705 - mae: 3.6707 - mse: 21.4705\n",
      "Epoch 31/40\n",
      "5/5 [==============================] - 0s 5ms/step - loss: 21.3091 - mae: 3.6551 - mse: 21.3091\n",
      "Epoch 32/40\n",
      "5/5 [==============================] - 0s 7ms/step - loss: 21.1642 - mae: 3.6422 - mse: 21.1642\n",
      "Epoch 33/40\n",
      "5/5 [==============================] - 0s 3ms/step - loss: 21.0514 - mae: 3.6346 - mse: 21.0514\n",
      "Epoch 34/40\n",
      "5/5 [==============================] - 0s 2ms/step - loss: 20.9717 - mae: 3.6304 - mse: 20.9717\n",
      "Epoch 35/40\n",
      "5/5 [==============================] - 0s 3ms/step - loss: 20.9009 - mae: 3.6230 - mse: 20.9009\n",
      "Epoch 36/40\n",
      "5/5 [==============================] - 0s 12ms/step - loss: 20.8675 - mae: 3.6203 - mse: 20.8675\n",
      "Epoch 37/40\n",
      "5/5 [==============================] - 0s 5ms/step - loss: 20.8300 - mae: 3.6158 - mse: 20.8300\n",
      "Epoch 38/40\n",
      "5/5 [==============================] - ETA: 0s - loss: 13.5876 - mae: 2.9510 - mse: 13.587 - 0s 3ms/step - loss: 20.7643 - mae: 3.6091 - mse: 20.7643\n",
      "Epoch 39/40\n",
      "5/5 [==============================] - 0s 4ms/step - loss: 20.7207 - mae: 3.6041 - mse: 20.7207\n",
      "Epoch 40/40\n",
      "5/5 [==============================] - 0s 4ms/step - loss: 20.6980 - mae: 3.6030 - mse: 20.6980\n"
     ]
    }
   ],
   "source": [
    "optimizer = optimizers.SGD()\n",
    "model.compile(loss='mse', optimizer=optimizer, metrics=['mae', 'mse'])\n",
    "history = model.fit(x_train, y_train, epochs=40)"
   ]
  },
  {
   "cell_type": "code",
   "execution_count": 7,
   "id": "c73d302a",
   "metadata": {},
   "outputs": [
    {
     "data": {
      "image/png": "[encoded data removed]",
      "text/plain": [
       "<Figure size 432x288 with 1 Axes>"
      ]
     },
     "metadata": {
      "needs_background": "light"
     },
     "output_type": "display_data"
    }
   ],
   "source": [
    "plt.plot(history.history['mae'])\n",
    "plt.plot(history.history['mse'])\n",
    "plt.xlabel('Epoch')\n",
    "plt.legend(['mae', 'mse'])\n",
    "plt.show();"
   ]
  },
  {
   "cell_type": "code",
   "execution_count": 8,
   "id": "92f7578a",
   "metadata": {},
   "outputs": [
    {
     "name": "stdout",
     "output_type": "stream",
     "text": [
      "2/2 [==============================] - 0s 16ms/step - loss: 21.9368 - mae: 3.9892 - mse: 21.9368\n"
     ]
    },
    {
     "data": {
      "text/plain": [
       "[21.936803817749023, 3.989171266555786, 21.936803817749023]"
      ]
     },
     "execution_count": 8,
     "metadata": {},
     "output_type": "execute_result"
    }
   ],
   "source": [
    "model.evaluate(x_test, y_test)"
   ]
  },
  {
   "cell_type": "code",
   "execution_count": 9,
   "id": "a1b7ae77",
   "metadata": {},
   "outputs": [
    {
     "data": {
      "image/png": "[encoded data removed]",
      "text/plain": [
       "<Figure size 432x288 with 1 Axes>"
      ]
     },
     "metadata": {
      "needs_background": "light"
     },
     "output_type": "display_data"
    }
   ],
   "source": [
    "result = model.predict(X)\n",
    "\n",
    "plt.scatter(X, y)\n",
    "plt.plot(X, result, 'r')\n",
    "plt.show()"
   ]
  },
  {
   "cell_type": "code",
   "execution_count": 10,
   "id": "bad3d7d9",
   "metadata": {},
   "outputs": [
    {
     "data": {
      "text/plain": [
       "[<keras.layers.core.Dense at 0x7f838f498f10>]"
      ]
     },
     "execution_count": 10,
     "metadata": {},
     "output_type": "execute_result"
    }
   ],
   "source": [
    "model.layers"
   ]
  },
  {
   "cell_type": "code",
   "execution_count": 11,
   "id": "08ae2ee3",
   "metadata": {},
   "outputs": [
    {
     "name": "stdout",
     "output_type": "stream",
     "text": [
      "dense\n",
      "dense\n"
     ]
    }
   ],
   "source": [
    "layer = model.layers[0]\n",
    "print(layer.name)\n",
    "layer = model.get_layer('dense')\n",
    "print(layer.name)"
   ]
  },
  {
   "cell_type": "code",
   "execution_count": 12,
   "id": "e0082475",
   "metadata": {},
   "outputs": [
    {
     "name": "stdout",
     "output_type": "stream",
     "text": [
      "[[22.892912]]\n",
      "[4.179406]\n"
     ]
    }
   ],
   "source": [
    "weights, biases = layer.get_weights()\n",
    "print(weights)\n",
    "print(biases)"
   ]
  },
  {
   "cell_type": "code",
   "execution_count": 13,
   "id": "5ec23ee1",
   "metadata": {},
   "outputs": [
    {
     "data": {
      "image/png": "[encoded data removed]",
      "text/plain": [
       "<Figure size 432x288 with 1 Axes>"
      ]
     },
     "metadata": {
      "needs_background": "light"
     },
     "output_type": "display_data"
    }
   ],
   "source": [
    "plt.scatter(X, y)\n",
    "plt.plot(X, np.array(weights * X + biases), 'r')\n",
    "plt.show()"
   ]
  },
  {
   "cell_type": "code",
   "execution_count": null,
   "id": "3cfb9ae9",
   "metadata": {},
   "outputs": [],
   "source": []
  }
 ],
 "metadata": {
  "kernelspec": {
   "display_name": "Python 3 (ipykernel)",
   "language": "python",
   "name": "python3"
  },
  "language_info": {
   "codemirror_mode": {
    "name": "ipython",
    "version": 3
   },
   "file_extension": ".py",
   "mimetype": "text/x-python",
   "name": "python",
   "nbconvert_exporter": "python",
   "pygments_lexer": "ipython3",
   "version": "3.9.7"
  }
 },
 "nbformat": 4,
 "nbformat_minor": 5
}
